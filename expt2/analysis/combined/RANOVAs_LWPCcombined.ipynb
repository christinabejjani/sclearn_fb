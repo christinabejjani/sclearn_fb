{
 "cells": [
  {
   "cell_type": "markdown",
   "metadata": {},
   "source": [
    "For some reason, the jupyter magic used to call the R script in the Python Jupyter notebook is calling R version 3.4.3, which I do not even have installed on my computer. So, in the meantime, I will run these R scripts in an actual 3.5.1 notebook..."
   ]
  },
  {
   "cell_type": "code",
   "execution_count": 1,
   "metadata": {},
   "outputs": [],
   "source": [
    "setwd(\"C:/Users/cb383/Desktop/YearThree/controllearning/fbproject/lwpc_combined/data/csvdata\")"
   ]
  },
  {
   "cell_type": "code",
   "execution_count": 2,
   "metadata": {},
   "outputs": [
    {
     "name": "stderr",
     "output_type": "stream",
     "text": [
      "Warning message:\n",
      "\"package 'afex' was built under R version 3.5.3\"Loading required package: lme4\n",
      "Loading required package: Matrix\n",
      "************\n",
      "Welcome to afex. For support visit: http://afex.singmann.science/\n",
      "- Functions for ANOVAs: aov_car(), aov_ez(), and aov_4()\n",
      "- Methods for calculating p-values with mixed(): 'KR', 'S', 'LRT', and 'PB'\n",
      "- 'afex_aov' and 'mixed' objects can be passed to emmeans() for follow-up tests\n",
      "- NEWS: library('emmeans') now needs to be called explicitly!\n",
      "- Get and set global package options with: afex_options()\n",
      "- Set orthogonal sum-to-zero contrasts globally: set_sum_contrasts()\n",
      "- For example analyses see: browseVignettes(\"afex\")\n",
      "************\n",
      "\n",
      "Attaching package: 'afex'\n",
      "\n",
      "The following object is masked from 'package:lme4':\n",
      "\n",
      "    lmer\n",
      "\n"
     ]
    }
   ],
   "source": [
    "library(afex)"
   ]
  },
  {
   "cell_type": "code",
   "execution_count": 3,
   "metadata": {},
   "outputs": [
    {
     "name": "stderr",
     "output_type": "stream",
     "text": [
      "Converting to factor: Experiment\n",
      "Contrasts set to contr.sum for the following variables: Feedback, BlockOrder, Experiment\n"
     ]
    },
    {
     "data": {
      "text/plain": [
       "Anova Table (Type 3 tests)\n",
       "\n",
       "Response: RT\n",
       "                                                Effect     df      MSE\n",
       "1                                             Feedback 1, 172 18664.25\n",
       "2                                           BlockOrder 1, 172 18664.25\n",
       "3                                           Experiment 1, 172 18664.25\n",
       "4                                  Feedback:BlockOrder 1, 172 18664.25\n",
       "5                                  Feedback:Experiment 1, 172 18664.25\n",
       "6                                BlockOrder:Experiment 1, 172 18664.25\n",
       "7                       Feedback:BlockOrder:Experiment 1, 172 18664.25\n",
       "8                                           Congruency 1, 172   473.30\n",
       "9                                  Feedback:Congruency 1, 172   473.30\n",
       "10                               BlockOrder:Congruency 1, 172   473.30\n",
       "11                               Experiment:Congruency 1, 172   473.30\n",
       "12                      Feedback:BlockOrder:Congruency 1, 172   473.30\n",
       "13                      Feedback:Experiment:Congruency 1, 172   473.30\n",
       "14                    BlockOrder:Experiment:Congruency 1, 172   473.30\n",
       "15           Feedback:BlockOrder:Experiment:Congruency 1, 172   473.30\n",
       "16                                           BlockType 1, 172  1016.41\n",
       "17                                  Feedback:BlockType 1, 172  1016.41\n",
       "18                                BlockOrder:BlockType 1, 172  1016.41\n",
       "19                                Experiment:BlockType 1, 172  1016.41\n",
       "20                       Feedback:BlockOrder:BlockType 1, 172  1016.41\n",
       "21                       Feedback:Experiment:BlockType 1, 172  1016.41\n",
       "22                     BlockOrder:Experiment:BlockType 1, 172  1016.41\n",
       "23            Feedback:BlockOrder:Experiment:BlockType 1, 172  1016.41\n",
       "24                                Congruency:BlockType 1, 172   422.34\n",
       "25                       Feedback:Congruency:BlockType 1, 172   422.34\n",
       "26                     BlockOrder:Congruency:BlockType 1, 172   422.34\n",
       "27                     Experiment:Congruency:BlockType 1, 172   422.34\n",
       "28            Feedback:BlockOrder:Congruency:BlockType 1, 172   422.34\n",
       "29            Feedback:Experiment:Congruency:BlockType 1, 172   422.34\n",
       "30          BlockOrder:Experiment:Congruency:BlockType 1, 172   422.34\n",
       "31 Feedback:BlockOrder:Experiment:Congruency:BlockType 1, 172   422.34\n",
       "           F    pes p.value\n",
       "1       0.21   .001     .64\n",
       "2       1.19   .007     .28\n",
       "3       0.25   .001     .62\n",
       "4       0.05  .0003     .83\n",
       "5       0.39   .002     .53\n",
       "6       0.38   .002     .54\n",
       "7       0.56   .003     .46\n",
       "8  95.56 ***    .36  <.0001\n",
       "9     3.97 *    .02     .05\n",
       "10      0.41   .002     .52\n",
       "11      0.08  .0004     .78\n",
       "12      0.46   .003     .50\n",
       "13      0.15  .0009     .70\n",
       "14      0.09  .0005     .77\n",
       "15      0.74   .004     .39\n",
       "16    2.87 +    .02     .09\n",
       "17      0.01 <.0001     .92\n",
       "18 23.75 ***    .12  <.0001\n",
       "19      0.20   .001     .65\n",
       "20      1.71   .010     .19\n",
       "21      0.11  .0006     .74\n",
       "22    2.92 +    .02     .09\n",
       "23      0.43   .002     .51\n",
       "24 22.19 ***    .11  <.0001\n",
       "25      0.22   .001     .64\n",
       "26      0.97   .006     .33\n",
       "27      0.25   .001     .62\n",
       "28    2.94 +    .02     .09\n",
       "29      0.02  .0001     .89\n",
       "30    4.25 *    .02     .04\n",
       "31      0.20   .001     .66\n",
       "---\n",
       "Signif. codes:  0 '***' 0.001 '**' 0.01 '*' 0.05 '+' 0.1 ' ' 1"
      ]
     },
     "metadata": {},
     "output_type": "display_data"
    }
   ],
   "source": [
    "rawRTData <- read.csv('SC_ANOVA_RT.csv')\n",
    "aov_car(RT ~ Feedback * BlockOrder * Experiment + Error(subject/(Congruency*BlockType)), data = rawRTData, anova_table = list(es = \"pes\"))\n"
   ]
  },
  {
   "cell_type": "code",
   "execution_count": 4,
   "metadata": {},
   "outputs": [
    {
     "name": "stderr",
     "output_type": "stream",
     "text": [
      "Converting to factor: Experiment\n",
      "Contrasts set to contr.sum for the following variables: Feedback, BlockOrder, Experiment\n"
     ]
    },
    {
     "data": {
      "text/plain": [
       "Anova Table (Type 3 tests)\n",
       "\n",
       "Response: Accuracy\n",
       "                                                Effect     df  MSE         F\n",
       "1                                             Feedback 1, 172 0.02      0.59\n",
       "2                                           BlockOrder 1, 172 0.02    3.42 +\n",
       "3                                           Experiment 1, 172 0.02    4.34 *\n",
       "4                                  Feedback:BlockOrder 1, 172 0.02      1.14\n",
       "5                                  Feedback:Experiment 1, 172 0.02      0.53\n",
       "6                                BlockOrder:Experiment 1, 172 0.02      0.18\n",
       "7                       Feedback:BlockOrder:Experiment 1, 172 0.02      0.39\n",
       "8                                           Congruency 1, 172 0.00 61.50 ***\n",
       "9                                  Feedback:Congruency 1, 172 0.00    5.35 *\n",
       "10                               BlockOrder:Congruency 1, 172 0.00      0.11\n",
       "11                               Experiment:Congruency 1, 172 0.00      0.58\n",
       "12                      Feedback:BlockOrder:Congruency 1, 172 0.00      0.81\n",
       "13                      Feedback:Experiment:Congruency 1, 172 0.00      0.53\n",
       "14                    BlockOrder:Experiment:Congruency 1, 172 0.00      0.93\n",
       "15           Feedback:BlockOrder:Experiment:Congruency 1, 172 0.00      0.06\n",
       "16                                           BlockType 1, 172 0.01    4.66 *\n",
       "17                                  Feedback:BlockType 1, 172 0.01      0.00\n",
       "18                                BlockOrder:BlockType 1, 172 0.01   7.90 **\n",
       "19                                Experiment:BlockType 1, 172 0.01      0.75\n",
       "20                       Feedback:BlockOrder:BlockType 1, 172 0.01      0.52\n",
       "21                       Feedback:Experiment:BlockType 1, 172 0.01      0.11\n",
       "22                     BlockOrder:Experiment:BlockType 1, 172 0.01      2.30\n",
       "23            Feedback:BlockOrder:Experiment:BlockType 1, 172 0.01      1.71\n",
       "24                                Congruency:BlockType 1, 172 0.00 44.27 ***\n",
       "25                       Feedback:Congruency:BlockType 1, 172 0.00      0.22\n",
       "26                     BlockOrder:Congruency:BlockType 1, 172 0.00   9.91 **\n",
       "27                     Experiment:Congruency:BlockType 1, 172 0.00      0.00\n",
       "28            Feedback:BlockOrder:Congruency:BlockType 1, 172 0.00      0.54\n",
       "29            Feedback:Experiment:Congruency:BlockType 1, 172 0.00    3.47 +\n",
       "30          BlockOrder:Experiment:Congruency:BlockType 1, 172 0.00      0.81\n",
       "31 Feedback:BlockOrder:Experiment:Congruency:BlockType 1, 172 0.00      0.00\n",
       "      pes p.value\n",
       "1    .003     .44\n",
       "2     .02     .07\n",
       "3     .02     .04\n",
       "4    .007     .29\n",
       "5    .003     .47\n",
       "6    .001     .67\n",
       "7    .002     .53\n",
       "8     .26  <.0001\n",
       "9     .03     .02\n",
       "10  .0006     .75\n",
       "11   .003     .45\n",
       "12   .005     .37\n",
       "13   .003     .47\n",
       "14   .005     .34\n",
       "15  .0004     .80\n",
       "16    .03     .03\n",
       "17 <.0001     .98\n",
       "18    .04    .006\n",
       "19   .004     .39\n",
       "20   .003     .47\n",
       "21  .0007     .74\n",
       "22    .01     .13\n",
       "23   .010     .19\n",
       "24    .20  <.0001\n",
       "25   .001     .64\n",
       "26    .05    .002\n",
       "27 <.0001     .97\n",
       "28   .003     .46\n",
       "29    .02     .06\n",
       "30   .005     .37\n",
       "31 <.0001     .99\n",
       "---\n",
       "Signif. codes:  0 '***' 0.001 '**' 0.01 '*' 0.05 '+' 0.1 ' ' 1"
      ]
     },
     "metadata": {},
     "output_type": "display_data"
    }
   ],
   "source": [
    "rawACCData <- read.csv('SC_ANOVA_ACC.csv')\n",
    "aov_car(Accuracy ~ Feedback * BlockOrder * Experiment + Error(subject/(Congruency*BlockType)), data = rawACCData, anova_table = list(es = \"pes\"))"
   ]
  },
  {
   "cell_type": "code",
   "execution_count": 5,
   "metadata": {},
   "outputs": [
    {
     "name": "stderr",
     "output_type": "stream",
     "text": [
      "Converting to factor: Experiment\n",
      "Contrasts set to contr.sum for the following variables: Feedback, BlockOrder, Experiment\n"
     ]
    },
    {
     "data": {
      "text/plain": [
       "Anova Table (Type 3 tests)\n",
       "\n",
       "Response: IE\n",
       "                                             Effect     df      MSE         F\n",
       "1                                          Feedback 1, 172 70474.61      0.14\n",
       "2                                        BlockOrder 1, 172 70474.61      1.96\n",
       "3                                        Experiment 1, 172 70474.61      1.75\n",
       "4                               Feedback:BlockOrder 1, 172 70474.61      0.40\n",
       "5                               Feedback:Experiment 1, 172 70474.61      0.43\n",
       "6                             BlockOrder:Experiment 1, 172 70474.61      0.09\n",
       "7                    Feedback:BlockOrder:Experiment 1, 172 70474.61      0.02\n",
       "8                                         TrialType 1, 172  7967.58 71.01 ***\n",
       "9                                Feedback:TrialType 1, 172  7967.58    4.82 *\n",
       "10                             BlockOrder:TrialType 1, 172  7967.58      0.04\n",
       "11                             Experiment:TrialType 1, 172  7967.58      1.11\n",
       "12                    Feedback:BlockOrder:TrialType 1, 172  7967.58      0.27\n",
       "13                    Feedback:Experiment:TrialType 1, 172  7967.58      0.37\n",
       "14                  BlockOrder:Experiment:TrialType 1, 172  7967.58      0.62\n",
       "15         Feedback:BlockOrder:Experiment:TrialType 1, 172  7967.58      0.10\n",
       "16                                          CueType 1, 172 15323.63    4.64 *\n",
       "17                                 Feedback:CueType 1, 172 15323.63      0.13\n",
       "18                               BlockOrder:CueType 1, 172 15323.63 14.35 ***\n",
       "19                               Experiment:CueType 1, 172 15323.63      0.29\n",
       "20                      Feedback:BlockOrder:CueType 1, 172 15323.63      1.75\n",
       "21                      Feedback:Experiment:CueType 1, 172 15323.63      0.01\n",
       "22                    BlockOrder:Experiment:CueType 1, 172 15323.63      1.69\n",
       "23           Feedback:BlockOrder:Experiment:CueType 1, 172 15323.63    3.11 +\n",
       "24                                TrialType:CueType 1, 172  8769.78 32.65 ***\n",
       "25                       Feedback:TrialType:CueType 1, 172  8769.78      0.26\n",
       "26                     BlockOrder:TrialType:CueType 1, 172  8769.78   8.73 **\n",
       "27                     Experiment:TrialType:CueType 1, 172  8769.78      0.06\n",
       "28            Feedback:BlockOrder:TrialType:CueType 1, 172  8769.78      0.56\n",
       "29            Feedback:Experiment:TrialType:CueType 1, 172  8769.78      0.34\n",
       "30          BlockOrder:Experiment:TrialType:CueType 1, 172  8769.78      2.55\n",
       "31 Feedback:BlockOrder:Experiment:TrialType:CueType 1, 172  8769.78      0.63\n",
       "      pes p.value\n",
       "1   .0008     .71\n",
       "2     .01     .16\n",
       "3     .01     .19\n",
       "4    .002     .53\n",
       "5    .002     .51\n",
       "6   .0005     .76\n",
       "7   .0001     .89\n",
       "8     .29  <.0001\n",
       "9     .03     .03\n",
       "10  .0002     .85\n",
       "11   .006     .29\n",
       "12   .002     .60\n",
       "13   .002     .54\n",
       "14   .004     .43\n",
       "15  .0006     .76\n",
       "16    .03     .03\n",
       "17  .0008     .72\n",
       "18    .08   .0002\n",
       "19   .002     .59\n",
       "20    .01     .19\n",
       "21 <.0001     .91\n",
       "22   .010     .20\n",
       "23    .02     .08\n",
       "24    .16  <.0001\n",
       "25   .001     .61\n",
       "26    .05    .004\n",
       "27  .0003     .81\n",
       "28   .003     .46\n",
       "29   .002     .56\n",
       "30    .01     .11\n",
       "31   .004     .43\n",
       "---\n",
       "Signif. codes:  0 '***' 0.001 '**' 0.01 '*' 0.05 '+' 0.1 ' ' 1"
      ]
     },
     "metadata": {},
     "output_type": "display_data"
    }
   ],
   "source": [
    "rawIEData <- read.csv('IE_Main.csv')\n",
    "aov_car(IE ~ Feedback * BlockOrder * Experiment + Error(SubjectID/(TrialType*CueType)), data = rawIEData, anova_table = list(es = \"pes\"))"
   ]
  },
  {
   "cell_type": "markdown",
   "metadata": {},
   "source": [
    "What about transfer?"
   ]
  },
  {
   "cell_type": "code",
   "execution_count": 6,
   "metadata": {},
   "outputs": [
    {
     "name": "stderr",
     "output_type": "stream",
     "text": [
      "Converting to factor: Experiment\n",
      "Contrasts set to contr.sum for the following variables: Feedback, BlockOrder, Experiment\n"
     ]
    },
    {
     "data": {
      "text/plain": [
       "Anova Table (Type 3 tests)\n",
       "\n",
       "Response: RT\n",
       "                                                Effect     df      MSE\n",
       "1                                             Feedback 1, 172 18914.96\n",
       "2                                           BlockOrder 1, 172 18914.96\n",
       "3                                           Experiment 1, 172 18914.96\n",
       "4                                  Feedback:BlockOrder 1, 172 18914.96\n",
       "5                                  Feedback:Experiment 1, 172 18914.96\n",
       "6                                BlockOrder:Experiment 1, 172 18914.96\n",
       "7                       Feedback:BlockOrder:Experiment 1, 172 18914.96\n",
       "8                                           Congruency 1, 172   391.17\n",
       "9                                  Feedback:Congruency 1, 172   391.17\n",
       "10                               BlockOrder:Congruency 1, 172   391.17\n",
       "11                               Experiment:Congruency 1, 172   391.17\n",
       "12                      Feedback:BlockOrder:Congruency 1, 172   391.17\n",
       "13                      Feedback:Experiment:Congruency 1, 172   391.17\n",
       "14                    BlockOrder:Experiment:Congruency 1, 172   391.17\n",
       "15           Feedback:BlockOrder:Experiment:Congruency 1, 172   391.17\n",
       "16                                           BlockType 1, 172   685.55\n",
       "17                                  Feedback:BlockType 1, 172   685.55\n",
       "18                                BlockOrder:BlockType 1, 172   685.55\n",
       "19                                Experiment:BlockType 1, 172   685.55\n",
       "20                       Feedback:BlockOrder:BlockType 1, 172   685.55\n",
       "21                       Feedback:Experiment:BlockType 1, 172   685.55\n",
       "22                     BlockOrder:Experiment:BlockType 1, 172   685.55\n",
       "23            Feedback:BlockOrder:Experiment:BlockType 1, 172   685.55\n",
       "24                                Congruency:BlockType 1, 172   172.39\n",
       "25                       Feedback:Congruency:BlockType 1, 172   172.39\n",
       "26                     BlockOrder:Congruency:BlockType 1, 172   172.39\n",
       "27                     Experiment:Congruency:BlockType 1, 172   172.39\n",
       "28            Feedback:BlockOrder:Congruency:BlockType 1, 172   172.39\n",
       "29            Feedback:Experiment:Congruency:BlockType 1, 172   172.39\n",
       "30          BlockOrder:Experiment:Congruency:BlockType 1, 172   172.39\n",
       "31 Feedback:BlockOrder:Experiment:Congruency:BlockType 1, 172   172.39\n",
       "            F    pes p.value\n",
       "1        0.01 <.0001     .94\n",
       "2        0.95   .005     .33\n",
       "3        0.48   .003     .49\n",
       "4        0.03  .0002     .86\n",
       "5        0.40   .002     .53\n",
       "6        0.47   .003     .50\n",
       "7        0.47   .003     .49\n",
       "8  122.45 ***    .42  <.0001\n",
       "9        1.72   .010     .19\n",
       "10       0.11  .0006     .74\n",
       "11       0.22   .001     .64\n",
       "12       0.43   .003     .51\n",
       "13       0.13  .0007     .72\n",
       "14       0.11  .0006     .74\n",
       "15       0.90   .005     .34\n",
       "16       1.21   .007     .27\n",
       "17       1.52   .009     .22\n",
       "18  11.49 ***    .06   .0009\n",
       "19     5.24 *    .03     .02\n",
       "20       1.05   .006     .31\n",
       "21     5.39 *    .03     .02\n",
       "22       0.08  .0005     .77\n",
       "23       0.34   .002     .56\n",
       "24     5.31 *    .03     .02\n",
       "25       0.61   .004     .44\n",
       "26       0.03  .0002     .85\n",
       "27       0.07  .0004     .79\n",
       "28       2.65    .02     .11\n",
       "29       2.67    .02     .10\n",
       "30       0.04  .0003     .83\n",
       "31       0.65   .004     .42\n",
       "---\n",
       "Signif. codes:  0 '***' 0.001 '**' 0.01 '*' 0.05 '+' 0.1 ' ' 1"
      ]
     },
     "metadata": {},
     "output_type": "display_data"
    }
   ],
   "source": [
    "rawRTData_T <- read.csv('SCT_ANOVA_RT.csv')\n",
    "aov_car(RT ~ Feedback * BlockOrder * Experiment + Error(subject/(Congruency*BlockType)), data = rawRTData_T, anova_table = list(es = \"pes\"))"
   ]
  },
  {
   "cell_type": "code",
   "execution_count": 7,
   "metadata": {},
   "outputs": [
    {
     "name": "stderr",
     "output_type": "stream",
     "text": [
      "Converting to factor: Experiment\n",
      "Contrasts set to contr.sum for the following variables: Feedback, BlockOrder, Experiment\n"
     ]
    },
    {
     "data": {
      "text/plain": [
       "Anova Table (Type 3 tests)\n",
       "\n",
       "Response: Accuracy\n",
       "                                                Effect     df  MSE         F\n",
       "1                                             Feedback 1, 172 0.03      0.54\n",
       "2                                           BlockOrder 1, 172 0.03    4.17 *\n",
       "3                                           Experiment 1, 172 0.03   6.94 **\n",
       "4                                  Feedback:BlockOrder 1, 172 0.03      0.04\n",
       "5                                  Feedback:Experiment 1, 172 0.03      0.17\n",
       "6                                BlockOrder:Experiment 1, 172 0.03      0.00\n",
       "7                       Feedback:BlockOrder:Experiment 1, 172 0.03      0.03\n",
       "8                                           Congruency 1, 172 0.00 14.98 ***\n",
       "9                                  Feedback:Congruency 1, 172 0.00      0.99\n",
       "10                               BlockOrder:Congruency 1, 172 0.00      0.44\n",
       "11                               Experiment:Congruency 1, 172 0.00      0.76\n",
       "12                      Feedback:BlockOrder:Congruency 1, 172 0.00      1.09\n",
       "13                      Feedback:Experiment:Congruency 1, 172 0.00      2.24\n",
       "14                    BlockOrder:Experiment:Congruency 1, 172 0.00      1.35\n",
       "15           Feedback:BlockOrder:Experiment:Congruency 1, 172 0.00      0.21\n",
       "16                                           BlockType 1, 172 0.01      1.04\n",
       "17                                  Feedback:BlockType 1, 172 0.01      1.37\n",
       "18                                BlockOrder:BlockType 1, 172 0.01   8.80 **\n",
       "19                                Experiment:BlockType 1, 172 0.01    3.97 *\n",
       "20                       Feedback:BlockOrder:BlockType 1, 172 0.01      1.15\n",
       "21                       Feedback:Experiment:BlockType 1, 172 0.01      0.30\n",
       "22                     BlockOrder:Experiment:BlockType 1, 172 0.01      0.20\n",
       "23            Feedback:BlockOrder:Experiment:BlockType 1, 172 0.01      0.30\n",
       "24                                Congruency:BlockType 1, 172 0.00      0.47\n",
       "25                       Feedback:Congruency:BlockType 1, 172 0.00    6.25 *\n",
       "26                     BlockOrder:Congruency:BlockType 1, 172 0.00   7.81 **\n",
       "27                     Experiment:Congruency:BlockType 1, 172 0.00      1.27\n",
       "28            Feedback:BlockOrder:Congruency:BlockType 1, 172 0.00      0.04\n",
       "29            Feedback:Experiment:Congruency:BlockType 1, 172 0.00    4.24 *\n",
       "30          BlockOrder:Experiment:Congruency:BlockType 1, 172 0.00      0.15\n",
       "31 Feedback:BlockOrder:Experiment:Congruency:BlockType 1, 172 0.00      0.19\n",
       "      pes p.value\n",
       "1    .003     .46\n",
       "2     .02     .04\n",
       "3     .04    .009\n",
       "4   .0002     .84\n",
       "5   .0010     .68\n",
       "6  <.0001     .95\n",
       "7   .0002     .86\n",
       "8     .08   .0002\n",
       "9    .006     .32\n",
       "10   .003     .51\n",
       "11   .004     .38\n",
       "12   .006     .30\n",
       "13    .01     .14\n",
       "14   .008     .25\n",
       "15   .001     .65\n",
       "16   .006     .31\n",
       "17   .008     .24\n",
       "18    .05    .003\n",
       "19    .02     .05\n",
       "20   .007     .29\n",
       "21   .002     .58\n",
       "22   .001     .66\n",
       "23   .002     .58\n",
       "24   .003     .50\n",
       "25    .04     .01\n",
       "26    .04    .006\n",
       "27   .007     .26\n",
       "28  .0002     .85\n",
       "29    .02     .04\n",
       "30  .0009     .70\n",
       "31   .001     .66\n",
       "---\n",
       "Signif. codes:  0 '***' 0.001 '**' 0.01 '*' 0.05 '+' 0.1 ' ' 1"
      ]
     },
     "metadata": {},
     "output_type": "display_data"
    }
   ],
   "source": [
    "rawACCData_T <- read.csv('SCT_ANOVA_ACC.csv')\n",
    "aov_car(Accuracy ~ Feedback * BlockOrder * Experiment + Error(subject/(Congruency*BlockType)), data = rawACCData_T, anova_table = list(es = \"pes\"))"
   ]
  },
  {
   "cell_type": "code",
   "execution_count": 8,
   "metadata": {},
   "outputs": [
    {
     "name": "stderr",
     "output_type": "stream",
     "text": [
      "Converting to factor: Experiment\n",
      "Contrasts set to contr.sum for the following variables: Feedback, BlockOrder, Experiment\n"
     ]
    },
    {
     "data": {
      "text/plain": [
       "Anova Table (Type 3 tests)\n",
       "\n",
       "Response: IE\n",
       "                                             Effect     df       MSE         F\n",
       "1                                          Feedback 1, 172 126245.36      0.30\n",
       "2                                        BlockOrder 1, 172 126245.36    3.19 +\n",
       "3                                        Experiment 1, 172 126245.36    3.08 +\n",
       "4                               Feedback:BlockOrder 1, 172 126245.36      0.04\n",
       "5                               Feedback:Experiment 1, 172 126245.36      0.01\n",
       "6                             BlockOrder:Experiment 1, 172 126245.36      0.20\n",
       "7                    Feedback:BlockOrder:Experiment 1, 172 126245.36      0.24\n",
       "8                                         TrialType 1, 172   8460.56 38.35 ***\n",
       "9                                Feedback:TrialType 1, 172   8460.56      2.38\n",
       "10                             BlockOrder:TrialType 1, 172   8460.56      0.04\n",
       "11                             Experiment:TrialType 1, 172   8460.56      0.13\n",
       "12                    Feedback:BlockOrder:TrialType 1, 172   8460.56    3.16 +\n",
       "13                    Feedback:Experiment:TrialType 1, 172   8460.56      0.97\n",
       "14                  BlockOrder:Experiment:TrialType 1, 172   8460.56      0.18\n",
       "15         Feedback:BlockOrder:Experiment:TrialType 1, 172   8460.56      1.20\n",
       "16                                          CueType 1, 172  26942.34      1.10\n",
       "17                                 Feedback:CueType 1, 172  26942.34      1.51\n",
       "18                               BlockOrder:CueType 1, 172  26942.34 12.87 ***\n",
       "19                               Experiment:CueType 1, 172  26942.34    5.12 *\n",
       "20                      Feedback:BlockOrder:CueType 1, 172  26942.34      0.76\n",
       "21                      Feedback:Experiment:CueType 1, 172  26942.34      0.25\n",
       "22                    BlockOrder:Experiment:CueType 1, 172  26942.34      1.31\n",
       "23           Feedback:BlockOrder:Experiment:CueType 1, 172  26942.34      0.09\n",
       "24                                TrialType:CueType 1, 172   5309.41      0.98\n",
       "25                       Feedback:TrialType:CueType 1, 172   5309.41   8.31 **\n",
       "26                     BlockOrder:TrialType:CueType 1, 172   5309.41   8.38 **\n",
       "27                     Experiment:TrialType:CueType 1, 172   5309.41      1.18\n",
       "28            Feedback:BlockOrder:TrialType:CueType 1, 172   5309.41      0.09\n",
       "29            Feedback:Experiment:TrialType:CueType 1, 172   5309.41      2.20\n",
       "30          BlockOrder:Experiment:TrialType:CueType 1, 172   5309.41      0.25\n",
       "31 Feedback:BlockOrder:Experiment:TrialType:CueType 1, 172   5309.41      0.16\n",
       "      pes p.value\n",
       "1    .002     .58\n",
       "2     .02     .08\n",
       "3     .02     .08\n",
       "4   .0003     .83\n",
       "5  <.0001     .91\n",
       "6    .001     .65\n",
       "7    .001     .63\n",
       "8     .18  <.0001\n",
       "9     .01     .12\n",
       "10  .0002     .85\n",
       "11  .0008     .72\n",
       "12    .02     .08\n",
       "13   .006     .33\n",
       "14   .001     .68\n",
       "15   .007     .27\n",
       "16   .006     .29\n",
       "17   .009     .22\n",
       "18    .07   .0004\n",
       "19    .03     .02\n",
       "20   .004     .38\n",
       "21   .001     .62\n",
       "22   .008     .25\n",
       "23  .0005     .77\n",
       "24   .006     .32\n",
       "25    .05    .004\n",
       "26    .05    .004\n",
       "27   .007     .28\n",
       "28  .0005     .77\n",
       "29    .01     .14\n",
       "30   .001     .62\n",
       "31  .0009     .69\n",
       "---\n",
       "Signif. codes:  0 '***' 0.001 '**' 0.01 '*' 0.05 '+' 0.1 ' ' 1"
      ]
     },
     "metadata": {},
     "output_type": "display_data"
    }
   ],
   "source": [
    "rawIEData_T <- read.csv('IE_transfer.csv')\n",
    "aov_car(IE ~ Feedback * BlockOrder * Experiment + Error(SubjectID/(TrialType*CueType)), data = rawIEData_T, anova_table = list(es = \"pes\"))"
   ]
  },
  {
   "cell_type": "markdown",
   "metadata": {},
   "source": [
    "The exploratory ANOVAs on the CSE at the end of the Jupyter notebook.."
   ]
  },
  {
   "cell_type": "code",
   "execution_count": 9,
   "metadata": {},
   "outputs": [
    {
     "name": "stderr",
     "output_type": "stream",
     "text": [
      "Contrasts set to contr.sum for the following variables: Feedback\n"
     ]
    },
    {
     "data": {
      "text/plain": [
       "Anova Table (Type 3 tests)\n",
       "\n",
       "Response: RT\n",
       "                        Effect     df      MSE         F   pes p.value\n",
       "1                     Feedback 1, 178 18189.68      0.44  .002     .51\n",
       "2                     PrevCong 1, 178   202.25      0.03 .0001     .87\n",
       "3            Feedback:PrevCong 1, 178   202.25      1.00  .006     .32\n",
       "4                   Congruency 1, 178   557.60 60.18 ***   .25  <.0001\n",
       "5          Feedback:Congruency 1, 178   557.60    4.30 *   .02     .04\n",
       "6          PrevCong:Congruency 1, 178   235.76   7.69 **   .04    .006\n",
       "7 Feedback:PrevCong:Congruency 1, 178   235.76      0.40  .002     .53\n",
       "---\n",
       "Signif. codes:  0 '***' 0.001 '**' 0.01 '*' 0.05 '+' 0.1 ' ' 1"
      ]
     },
     "metadata": {},
     "output_type": "display_data"
    }
   ],
   "source": [
    "CSE_RT <- read.csv('CSE_ANOVA_RT.csv')\n",
    "aov_car(RT ~ Feedback + Error(subject/(PrevCong*Congruency)), data = CSE_RT, anova_table = list(es = \"pes\"))"
   ]
  },
  {
   "cell_type": "code",
   "execution_count": 10,
   "metadata": {},
   "outputs": [
    {
     "name": "stderr",
     "output_type": "stream",
     "text": [
      "Contrasts set to contr.sum for the following variables: Feedback\n"
     ]
    },
    {
     "data": {
      "text/plain": [
       "Anova Table (Type 3 tests)\n",
       "\n",
       "Response: Accuracy\n",
       "                        Effect     df  MSE         F   pes p.value\n",
       "1                     Feedback 1, 178 0.02      1.10  .006     .30\n",
       "2                     PrevCong 1, 178 0.00 13.12 ***   .07   .0004\n",
       "3            Feedback:PrevCong 1, 178 0.00      0.03 .0001     .87\n",
       "4                   Congruency 1, 178 0.00 30.77 ***   .15  <.0001\n",
       "5          Feedback:Congruency 1, 178 0.00    4.21 *   .02     .04\n",
       "6          PrevCong:Congruency 1, 178 0.00 42.05 ***   .19  <.0001\n",
       "7 Feedback:PrevCong:Congruency 1, 178 0.00      0.34  .002     .56\n",
       "---\n",
       "Signif. codes:  0 '***' 0.001 '**' 0.01 '*' 0.05 '+' 0.1 ' ' 1"
      ]
     },
     "metadata": {},
     "output_type": "display_data"
    }
   ],
   "source": [
    "CSE_ACC <- read.csv('CSE_ANOVA_ACC.csv')\n",
    "aov_car(Accuracy ~ Feedback + Error(subject/(PrevCong*Congruency)), data = CSE_ACC, anova_table = list(es = \"pes\"))"
   ]
  },
  {
   "cell_type": "markdown",
   "metadata": {},
   "source": [
    "### Bayesian ANOVAs"
   ]
  },
  {
   "cell_type": "code",
   "execution_count": 2,
   "metadata": {},
   "outputs": [
    {
     "name": "stderr",
     "output_type": "stream",
     "text": [
      "Loading required package: coda\n",
      "Warning message:\n",
      "\"package 'coda' was built under R version 3.5.2\"Loading required package: Matrix\n",
      "************\n",
      "Welcome to BayesFactor 0.9.12-4.2. If you have questions, please contact Richard Morey (richarddmorey@gmail.com).\n",
      "\n",
      "Type BFManual() to open the manual.\n",
      "************\n",
      "Warning message:\n",
      "\"replacing previous import 'magrittr::set_names' by 'purrr::set_names' when loading 'BFEffects'\""
     ]
    }
   ],
   "source": [
    "library(methods)\n",
    "library(BayesFactor)\n",
    "library(BFEffects)"
   ]
  },
  {
   "cell_type": "raw",
   "metadata": {},
   "source": [
    "rawRTData <- read.csv('SC_ANOVA_RT.csv')\n",
    "rawRTData$RT <- as.numeric(as.character(rawRTData$RT))\n",
    "\n",
    "rawRTData <- within(rawRTData, {\n",
    "  subject <- factor(subject)\n",
    "  Congruency <- factor(Congruency)\n",
    "  BlockType <- factor(BlockType)\n",
    "   Feedback <- factor(Feedback)\n",
    "    BlockOrder <- factor(BlockOrder)\n",
    "    Experiment <- factor(Experiment)\n",
    "})\n",
    "\n",
    "SC_RT_runANOVA <- anovaBF(RT ~ BlockType*Congruency*Feedback*BlockOrder*Experiment + subject,\n",
    "                                  data=rawRTData,\n",
    "                                  whichRandom=\"subject\")\n",
    "\n",
    "png(file=\"Bayes_SC_RT.png\", width = 3000, height = 700, res = 60)\n",
    "plot(SC_RT_runANOVA)\n",
    "dev.off()\n",
    "#print(SC_RT_runANOVA)\n",
    "print(inclusionBF(SC_RT_runANOVA))"
   ]
  },
  {
   "cell_type": "raw",
   "metadata": {},
   "source": [
    "rawACCData <- read.csv('SC_ANOVA_ACC.csv')\n",
    "rawACCData$Accuracy <- as.numeric(as.character(rawACCData$Accuracy))\n",
    "\n",
    "rawACCData <- within(rawACCData, {\n",
    "  subject <- factor(subject)\n",
    "  Congruency <- factor(Congruency)\n",
    "  BlockType <- factor(BlockType)\n",
    "    Feedback <- factor(Feedback)\n",
    "    BlockOrder <- factor(BlockOrder)\n",
    "    Experiment <- factor(Experiment)\n",
    "})\n",
    "\n",
    "SC_ACC_runANOVA <- anovaBF(Accuracy ~ BlockType*Congruency*Feedback*BlockOrder*Experiment + subject,\n",
    "                                  data=rawACCData,\n",
    "                                  whichRandom=\"subject\")\n",
    "\n",
    "png(file=\"Bayes_SC_ACC.png\", width = 3000, height = 700, res = 60)\n",
    "plot(SC_ACC_runANOVA)\n",
    "dev.off()\n",
    "#print(SC_ACC_runANOVA)\n",
    "print(inclusionBF(SC_ACC_runANOVA))"
   ]
  },
  {
   "cell_type": "raw",
   "metadata": {},
   "source": [
    "IEdata <- read.csv('IE_Main.csv')\n",
    "IEdata$IE <- as.numeric(as.character(IEdata$IE))\n",
    "\n",
    "IEdata <- within(IEdata, {\n",
    "  SubjectID <- factor(SubjectID)\n",
    "  TrialType <- factor(TrialType)\n",
    "  CueType <- factor(CueType)\n",
    "  Feedback <- factor(Feedback)\n",
    "    BlockOrder <- factor(BlockOrder)\n",
    "    Experiment <- factor(Experiment)\n",
    "})\n",
    "\n",
    "SC_IE_runANOVA <- anovaBF(IE ~ CueType*TrialType*Feedback*BlockOrder*Experiment + SubjectID,\n",
    "                          data=IEdata,\n",
    "                          whichRandom=\"SubjectID\")\n",
    "\n",
    "png(file=\"Bayes_SC_IE.png\", width = 3000, height = 700, res = 60)\n",
    "plot(SC_IE_runANOVA)\n",
    "dev.off()\n",
    "#print(SC_IE_runANOVA)\n",
    "print(inclusionBF(SC_IE_runANOVA))"
   ]
  },
  {
   "cell_type": "markdown",
   "metadata": {},
   "source": [
    "What about transfer?"
   ]
  },
  {
   "cell_type": "raw",
   "metadata": {},
   "source": [
    "rawRTData_T <- read.csv('SCT_ANOVA_RT.csv')\n",
    "rawRTData_T$RT <- as.numeric(as.character(rawRTData_T$RT))\n",
    "\n",
    "rawRTData_T <- within(rawRTData_T, {\n",
    "  subject <- factor(subject)\n",
    "  Congruency <- factor(Congruency)\n",
    "  BlockType <- factor(BlockType)\n",
    "   Feedback <- factor(Feedback)\n",
    "    BlockOrder <- factor(BlockOrder)\n",
    "    Experiment <- factor(Experiment)\n",
    "})\n",
    "\n",
    "SCT_RT_runANOVA <- anovaBF(RT ~ BlockType*Congruency*Feedback*BlockOrder*Experiment + subject,\n",
    "                                  data=rawRTData_T,\n",
    "                                  whichRandom=\"subject\")\n",
    "\n",
    "png(file=\"Bayes_SCT_RT.png\", width = 3000, height = 700, res = 60)\n",
    "plot(SCT_RT_runANOVA)\n",
    "dev.off()\n",
    "#print(SCT_RT_runANOVA)\n",
    "print(inclusionBF(SCT_RT_runANOVA))"
   ]
  },
  {
   "cell_type": "raw",
   "metadata": {},
   "source": [
    "rawACCData_T <- read.csv('SCT_ANOVA_ACC.csv')\n",
    "rawACCData_T$Accuracy <- as.numeric(as.character(rawACCData_T$Accuracy))\n",
    "\n",
    "rawACCData_T <- within(rawACCData_T, {\n",
    "  subject <- factor(subject)\n",
    "  Congruency <- factor(Congruency)\n",
    "  BlockType <- factor(BlockType)\n",
    "    Feedback <- factor(Feedback)\n",
    "    BlockOrder <- factor(BlockOrder)\n",
    "    Experiment <- factor(Experiment)\n",
    "})\n",
    "\n",
    "SCT_ACC_runANOVA <- anovaBF(Accuracy ~ BlockType*Congruency*Feedback*BlockOrder*Experiment + subject,\n",
    "                                  data=rawACCData_T,\n",
    "                                  whichRandom=\"subject\")\n",
    "\n",
    "png(file=\"Bayes_SCT_ACC.png\", width = 3000, height = 700, res = 60)\n",
    "plot(SCT_ACC_runANOVA)\n",
    "dev.off()\n",
    "#print(SCT_ACC_runANOVA)\n",
    "print(inclusionBF(SCT_ACC_runANOVA))"
   ]
  },
  {
   "cell_type": "raw",
   "metadata": {},
   "source": [
    "IEdata_T <- read.csv('IE_transfer.csv')\n",
    "IEdata_T$IE <- as.numeric(as.character(IEdata_T$IE))\n",
    "\n",
    "IEdata_T <- within(IEdata_T, {\n",
    "  SubjectID <- factor(SubjectID)\n",
    "  CueType <- factor(CueType)\n",
    "  TrialType <- factor(TrialType)\n",
    "  Feedback <- factor(Feedback)\n",
    "  BlockOrder <- factor(BlockOrder)\n",
    "    Experiment <- factor(Experiment)\n",
    "})\n",
    "\n",
    "SC_IET_runANOVA <- anovaBF(IE ~ CueType*TrialType*Feedback*BlockOrder*Experiment + SubjectID,\n",
    "                           data=IEdata_T,\n",
    "                           whichRandom=\"SubjectID\")\n",
    "\n",
    "png(file=\"Bayes_SC_IE_T.png\", width = 3000, height = 700, res = 60)\n",
    "plot(SC_IET_runANOVA)\n",
    "dev.off()\n",
    "#print(SC_IET_runANOVA) #this will have like 7000 models, so we'll skip printing that all out\n",
    "print(inclusionBF(SC_IET_runANOVA))"
   ]
  }
 ],
 "metadata": {
  "kernelspec": {
   "display_name": "R",
   "language": "R",
   "name": "ir"
  },
  "language_info": {
   "codemirror_mode": "r",
   "file_extension": ".r",
   "mimetype": "text/x-r-source",
   "name": "R",
   "pygments_lexer": "r",
   "version": "3.5.1"
  }
 },
 "nbformat": 4,
 "nbformat_minor": 2
}
