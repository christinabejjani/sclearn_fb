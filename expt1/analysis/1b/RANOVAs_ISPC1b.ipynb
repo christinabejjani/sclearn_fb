{
 "cells": [
  {
   "cell_type": "markdown",
   "metadata": {},
   "source": [
    "For some reason, the jupyter magic used to call the R script in the Python Jupyter notebook is calling R version 3.4.3, which I do not even have installed on my computer. So, in the meantime, I will run these R scripts in an actual 3.5.1 notebook..."
   ]
  },
  {
   "cell_type": "code",
   "execution_count": 1,
   "metadata": {},
   "outputs": [],
   "source": [
    "setwd(\"C:/Users/cb383/Desktop/YearThree/controllearning/fbproject/ispcfb_rep/data/csvdata\")"
   ]
  },
  {
   "cell_type": "code",
   "execution_count": 2,
   "metadata": {},
   "outputs": [
    {
     "name": "stderr",
     "output_type": "stream",
     "text": [
      "Warning message:\n",
      "\"package 'afex' was built under R version 3.5.3\"Loading required package: lme4\n",
      "Loading required package: Matrix\n",
      "************\n",
      "Welcome to afex. For support visit: http://afex.singmann.science/\n",
      "- Functions for ANOVAs: aov_car(), aov_ez(), and aov_4()\n",
      "- Methods for calculating p-values with mixed(): 'KR', 'S', 'LRT', and 'PB'\n",
      "- 'afex_aov' and 'mixed' objects can be passed to emmeans() for follow-up tests\n",
      "- NEWS: library('emmeans') now needs to be called explicitly!\n",
      "- Get and set global package options with: afex_options()\n",
      "- Set orthogonal sum-to-zero contrasts globally: set_sum_contrasts()\n",
      "- For example analyses see: browseVignettes(\"afex\")\n",
      "************\n",
      "\n",
      "Attaching package: 'afex'\n",
      "\n",
      "The following object is masked from 'package:lme4':\n",
      "\n",
      "    lmer\n",
      "\n"
     ]
    }
   ],
   "source": [
    "library(afex)"
   ]
  },
  {
   "cell_type": "code",
   "execution_count": 3,
   "metadata": {},
   "outputs": [
    {
     "name": "stderr",
     "output_type": "stream",
     "text": [
      "Contrasts set to contr.sum for the following variables: Feedback\n"
     ]
    },
    {
     "data": {
      "text/plain": [
       "Anova Table (Type 3 tests)\n",
       "\n",
       "Response: RT\n",
       "                         Effect     df      MSE          F   pes p.value\n",
       "1                      Feedback 1, 118 19472.45     2.99 +   .02     .09\n",
       "2                    Congruency 1, 118   199.45 118.99 ***   .50  <.0001\n",
       "3           Feedback:Congruency 1, 118   199.45       0.06 .0005     .80\n",
       "4                     DemandCue 1, 118   559.41  34.58 ***   .23  <.0001\n",
       "5            Feedback:DemandCue 1, 118   559.41       0.12  .001     .73\n",
       "6          Congruency:DemandCue 1, 118   166.52       0.81  .007     .37\n",
       "7 Feedback:Congruency:DemandCue 1, 118   166.52       1.56   .01     .21\n",
       "---\n",
       "Signif. codes:  0 '***' 0.001 '**' 0.01 '*' 0.05 '+' 0.1 ' ' 1"
      ]
     },
     "metadata": {},
     "output_type": "display_data"
    }
   ],
   "source": [
    "rawRTData <- read.csv('SC_ANOVA_RT.csv')\n",
    "aov_car(RT ~ Feedback + Error(subject/(Congruency*DemandCue)), data = rawRTData, anova_table = list(es = \"pes\"))\n"
   ]
  },
  {
   "cell_type": "code",
   "execution_count": 4,
   "metadata": {},
   "outputs": [
    {
     "name": "stderr",
     "output_type": "stream",
     "text": [
      "Contrasts set to contr.sum for the following variables: Feedback\n"
     ]
    },
    {
     "data": {
      "text/plain": [
       "Anova Table (Type 3 tests)\n",
       "\n",
       "Response: Accuracy\n",
       "                         Effect     df  MSE         F  pes p.value\n",
       "1                      Feedback 1, 118 0.02      0.79 .007     .38\n",
       "2                    Congruency 1, 118 0.00 41.71 ***  .26  <.0001\n",
       "3           Feedback:Congruency 1, 118 0.00      1.48  .01     .23\n",
       "4                     DemandCue 1, 118 0.00 32.67 ***  .22  <.0001\n",
       "5            Feedback:DemandCue 1, 118 0.00      0.38 .003     .54\n",
       "6          Congruency:DemandCue 1, 118 0.00    3.66 +  .03     .06\n",
       "7 Feedback:Congruency:DemandCue 1, 118 0.00      0.65 .005     .42\n",
       "---\n",
       "Signif. codes:  0 '***' 0.001 '**' 0.01 '*' 0.05 '+' 0.1 ' ' 1"
      ]
     },
     "metadata": {},
     "output_type": "display_data"
    }
   ],
   "source": [
    "rawACCData <- read.csv('SC_ANOVA_ACC.csv')\n",
    "aov_car(Accuracy ~ Feedback + Error(subject/(Congruency*DemandCue)), data = rawACCData, anova_table = list(es = \"pes\"))"
   ]
  },
  {
   "cell_type": "code",
   "execution_count": 5,
   "metadata": {},
   "outputs": [
    {
     "name": "stderr",
     "output_type": "stream",
     "text": [
      "Contrasts set to contr.sum for the following variables: Feedback\n"
     ]
    },
    {
     "data": {
      "text/plain": [
       "Anova Table (Type 3 tests)\n",
       "\n",
       "Response: IE\n",
       "                         Effect     df      MSE         F    pes p.value\n",
       "1                      Feedback 1, 118 56915.28      0.40   .003     .53\n",
       "2                    Congruency 1, 118  2390.59 74.21 ***    .39  <.0001\n",
       "3           Feedback:Congruency 1, 118  2390.59      0.62   .005     .43\n",
       "4                     DemandCue 1, 118  2942.96 45.87 ***    .28  <.0001\n",
       "5            Feedback:DemandCue 1, 118  2942.96      0.01 <.0001     .93\n",
       "6          Congruency:DemandCue 1, 118  2247.92    6.83 *    .05     .01\n",
       "7 Feedback:Congruency:DemandCue 1, 118  2247.92      0.89   .007     .35\n",
       "---\n",
       "Signif. codes:  0 '***' 0.001 '**' 0.01 '*' 0.05 '+' 0.1 ' ' 1"
      ]
     },
     "metadata": {},
     "output_type": "display_data"
    }
   ],
   "source": [
    "rawIEData <- read.csv('IE_Main.csv')\n",
    "aov_car(IE ~ Feedback + Error(SubjectID/(Congruency*DemandCue)), data = rawIEData, anova_table = list(es = \"pes\"))"
   ]
  },
  {
   "cell_type": "markdown",
   "metadata": {},
   "source": [
    "What about transfer?"
   ]
  },
  {
   "cell_type": "code",
   "execution_count": 6,
   "metadata": {},
   "outputs": [
    {
     "name": "stderr",
     "output_type": "stream",
     "text": [
      "Contrasts set to contr.sum for the following variables: Feedback\n"
     ]
    },
    {
     "data": {
      "text/plain": [
       "Anova Table (Type 3 tests)\n",
       "\n",
       "Response: RT\n",
       "                         Effect     df      MSE         F  pes p.value\n",
       "1                      Feedback 1, 118 20363.01    4.15 *  .03     .04\n",
       "2                    Congruency 1, 118   216.02 28.71 ***  .20  <.0001\n",
       "3           Feedback:Congruency 1, 118   216.02      0.43 .004     .51\n",
       "4                     DemandCue 1, 118   691.69 15.37 ***  .12   .0001\n",
       "5            Feedback:DemandCue 1, 118   691.69      0.94 .008     .33\n",
       "6          Congruency:DemandCue 1, 118   182.93      0.49 .004     .48\n",
       "7 Feedback:Congruency:DemandCue 1, 118   182.93      1.40  .01     .24\n",
       "---\n",
       "Signif. codes:  0 '***' 0.001 '**' 0.01 '*' 0.05 '+' 0.1 ' ' 1"
      ]
     },
     "metadata": {},
     "output_type": "display_data"
    }
   ],
   "source": [
    "rawRTData_T <- read.csv('SCT_ANOVA_RT.csv')\n",
    "aov_car(RT ~ Feedback + Error(subject/(Congruency*DemandCue)), data = rawRTData_T, anova_table = list(es = \"pes\"))"
   ]
  },
  {
   "cell_type": "code",
   "execution_count": 7,
   "metadata": {},
   "outputs": [
    {
     "name": "stderr",
     "output_type": "stream",
     "text": [
      "Contrasts set to contr.sum for the following variables: Feedback\n"
     ]
    },
    {
     "data": {
      "text/plain": [
       "Anova Table (Type 3 tests)\n",
       "\n",
       "Response: Accuracy\n",
       "                         Effect     df  MSE      F   pes p.value\n",
       "1                      Feedback 1, 118 0.02   0.01 .0001     .90\n",
       "2                    Congruency 1, 118 0.00 5.04 *   .04     .03\n",
       "3           Feedback:Congruency 1, 118 0.00 5.55 *   .04     .02\n",
       "4                     DemandCue 1, 118 0.00 5.49 *   .04     .02\n",
       "5            Feedback:DemandCue 1, 118 0.00   0.49  .004     .48\n",
       "6          Congruency:DemandCue 1, 118 0.00   0.22  .002     .64\n",
       "7 Feedback:Congruency:DemandCue 1, 118 0.00   0.02 .0002     .88\n",
       "---\n",
       "Signif. codes:  0 '***' 0.001 '**' 0.01 '*' 0.05 '+' 0.1 ' ' 1"
      ]
     },
     "metadata": {},
     "output_type": "display_data"
    }
   ],
   "source": [
    "rawACCData_T <- read.csv('SCT_ANOVA_ACC.csv')\n",
    "aov_car(Accuracy ~ Feedback + Error(subject/(Congruency*DemandCue)), data = rawACCData_T, anova_table = list(es = \"pes\"))"
   ]
  },
  {
   "cell_type": "code",
   "execution_count": 8,
   "metadata": {},
   "outputs": [
    {
     "name": "stderr",
     "output_type": "stream",
     "text": [
      "Contrasts set to contr.sum for the following variables: Feedback\n"
     ]
    },
    {
     "data": {
      "text/plain": [
       "Anova Table (Type 3 tests)\n",
       "\n",
       "Response: IE\n",
       "                         Effect     df      MSE         F   pes p.value\n",
       "1                      Feedback 1, 118 68908.09      1.47   .01     .23\n",
       "2                    Congruency 1, 118  1233.52 20.14 ***   .15  <.0001\n",
       "3           Feedback:Congruency 1, 118  1233.52    4.27 *   .03     .04\n",
       "4                     DemandCue 1, 118  3771.80   8.29 **   .07    .005\n",
       "5            Feedback:DemandCue 1, 118  3771.80      0.09 .0007     .77\n",
       "6          Congruency:DemandCue 1, 118  2817.53      0.25  .002     .61\n",
       "7 Feedback:Congruency:DemandCue 1, 118  2817.53      0.15  .001     .70\n",
       "---\n",
       "Signif. codes:  0 '***' 0.001 '**' 0.01 '*' 0.05 '+' 0.1 ' ' 1"
      ]
     },
     "metadata": {},
     "output_type": "display_data"
    }
   ],
   "source": [
    "rawIEData_T <- read.csv('IE_transfer.csv')\n",
    "aov_car(IE ~ Feedback + Error(SubjectID/(Congruency*DemandCue)), data = rawIEData_T, anova_table = list(es = \"pes\"))"
   ]
  },
  {
   "cell_type": "markdown",
   "metadata": {},
   "source": [
    "The exploratory ANOVAs on the CSE at the end of the Jupyter notebook.."
   ]
  },
  {
   "cell_type": "code",
   "execution_count": 9,
   "metadata": {},
   "outputs": [
    {
     "name": "stderr",
     "output_type": "stream",
     "text": [
      "Contrasts set to contr.sum for the following variables: Feedback\n"
     ]
    },
    {
     "data": {
      "text/plain": [
       "Anova Table (Type 3 tests)\n",
       "\n",
       "Response: RT\n",
       "                        Effect     df      MSE         F   pes p.value\n",
       "1                     Feedback 1, 118 19628.61    3.12 +   .03     .08\n",
       "2                     PrevCong 1, 118    94.92      0.58  .005     .45\n",
       "3            Feedback:PrevCong 1, 118    94.92    3.75 +   .03     .06\n",
       "4                   Congruency 1, 118   282.73 26.59 ***   .18  <.0001\n",
       "5          Feedback:Congruency 1, 118   282.73      0.09 .0008     .76\n",
       "6          PrevCong:Congruency 1, 118   118.69      0.06 .0005     .80\n",
       "7 Feedback:PrevCong:Congruency 1, 118   118.69      0.92  .008     .34\n",
       "---\n",
       "Signif. codes:  0 '***' 0.001 '**' 0.01 '*' 0.05 '+' 0.1 ' ' 1"
      ]
     },
     "metadata": {},
     "output_type": "display_data"
    }
   ],
   "source": [
    "CSE_RT <- read.csv('CSE_ANOVA_RT.csv')\n",
    "aov_car(RT ~ Feedback + Error(subject/(PrevCong*Congruency)), data = CSE_RT, anova_table = list(es = \"pes\"))"
   ]
  },
  {
   "cell_type": "code",
   "execution_count": 10,
   "metadata": {},
   "outputs": [
    {
     "name": "stderr",
     "output_type": "stream",
     "text": [
      "Contrasts set to contr.sum for the following variables: Feedback\n"
     ]
    },
    {
     "data": {
      "text/plain": [
       "Anova Table (Type 3 tests)\n",
       "\n",
       "Response: Accuracy\n",
       "                        Effect     df  MSE         F    pes p.value\n",
       "1                     Feedback 1, 118 0.01      0.60   .005     .44\n",
       "2                     PrevCong 1, 118 0.00      0.59   .005     .44\n",
       "3            Feedback:PrevCong 1, 118 0.00      0.00 <.0001     .97\n",
       "4                   Congruency 1, 118 0.00 20.06 ***    .15  <.0001\n",
       "5          Feedback:Congruency 1, 118 0.00      1.15   .010     .29\n",
       "6          PrevCong:Congruency 1, 118 0.00      1.36    .01     .25\n",
       "7 Feedback:PrevCong:Congruency 1, 118 0.00      1.63    .01     .20\n",
       "---\n",
       "Signif. codes:  0 '***' 0.001 '**' 0.01 '*' 0.05 '+' 0.1 ' ' 1"
      ]
     },
     "metadata": {},
     "output_type": "display_data"
    }
   ],
   "source": [
    "CSE_ACC <- read.csv('CSE_ANOVA_ACC.csv')\n",
    "aov_car(Accuracy ~ Feedback + Error(subject/(PrevCong*Congruency)), data = CSE_ACC, anova_table = list(es = \"pes\"))"
   ]
  },
  {
   "cell_type": "markdown",
   "metadata": {},
   "source": [
    "### Bayesian ANOVAs"
   ]
  },
  {
   "cell_type": "code",
   "execution_count": 11,
   "metadata": {},
   "outputs": [
    {
     "name": "stderr",
     "output_type": "stream",
     "text": [
      "Loading required package: coda\n",
      "Warning message:\n",
      "\"package 'coda' was built under R version 3.5.2\"************\n",
      "Welcome to BayesFactor 0.9.12-4.2. If you have questions, please contact Richard Morey (richarddmorey@gmail.com).\n",
      "\n",
      "Type BFManual() to open the manual.\n",
      "************\n",
      "Warning message:\n",
      "\"replacing previous import 'magrittr::set_names' by 'purrr::set_names' when loading 'BFEffects'\""
     ]
    }
   ],
   "source": [
    "library(methods)\n",
    "library(BayesFactor)\n",
    "library(BFEffects)"
   ]
  },
  {
   "cell_type": "code",
   "execution_count": 12,
   "metadata": {},
   "outputs": [
    {
     "data": {
      "text/html": [
       "<strong>png:</strong> 2"
      ],
      "text/latex": [
       "\\textbf{png:} 2"
      ],
      "text/markdown": [
       "**png:** 2"
      ],
      "text/plain": [
       "png \n",
       "  2 "
      ]
     },
     "metadata": {},
     "output_type": "display_data"
    },
    {
     "name": "stdout",
     "output_type": "stream",
     "text": [
      "Bayes factor analysis\n",
      "--------------\n",
      "[1] DemandCue + subject                                                                                                                            : 1951298817   ±0.97%\n",
      "[2] Congruency + subject                                                                                                                           : 727397576170 ±1.36%\n",
      "[3] DemandCue + Congruency + subject                                                                                                               : 1.479888e+23 ±2.02%\n",
      "[4] DemandCue + Congruency + DemandCue:Congruency + subject                                                                                        : 2.738383e+22 ±3.23%\n",
      "[5] Feedback + subject                                                                                                                             : 1.017        ±9.12%\n",
      "[6] DemandCue + Feedback + subject                                                                                                                 : 1809076385   ±17.57%\n",
      "[7] Congruency + Feedback + subject                                                                                                                : 799280777019 ±28.47%\n",
      "[8] DemandCue + Congruency + Feedback + subject                                                                                                    : 1.225302e+23 ±7.19%\n",
      "[9] DemandCue + Congruency + DemandCue:Congruency + Feedback + subject                                                                             : 2.612317e+22 ±25.99%\n",
      "[10] DemandCue + Feedback + DemandCue:Feedback + subject                                                                                           : 263980335    ±11.02%\n",
      "[11] DemandCue + Congruency + Feedback + DemandCue:Feedback + subject                                                                              : 2.102403e+22 ±11.25%\n",
      "[12] DemandCue + Congruency + DemandCue:Congruency + Feedback + DemandCue:Feedback + subject                                                       : 2.784804e+21 ±8.31%\n",
      "[13] Congruency + Feedback + Congruency:Feedback + subject                                                                                         : 124096557369 ±24.9%\n",
      "[14] DemandCue + Congruency + Feedback + Congruency:Feedback + subject                                                                             : 1.647631e+22 ±7.41%\n",
      "[15] DemandCue + Congruency + DemandCue:Congruency + Feedback + Congruency:Feedback + subject                                                      : 3.091546e+21 ±19.28%\n",
      "[16] DemandCue + Congruency + Feedback + DemandCue:Feedback + Congruency:Feedback + subject                                                        : 2.688199e+21 ±12.95%\n",
      "[17] DemandCue + Congruency + DemandCue:Congruency + Feedback + DemandCue:Feedback + Congruency:Feedback + subject                                 : 5.185722e+20 ±13.82%\n",
      "[18] DemandCue + Congruency + DemandCue:Congruency + Feedback + DemandCue:Feedback + Congruency:Feedback + DemandCue:Congruency:Feedback + subject : 1.146233e+20 ±9.1%\n",
      "\n",
      "Against denominator:\n",
      "  RT ~ subject \n",
      "---\n",
      "Bayes factor type: BFlinearModel, JZS\n",
      "\n",
      "                              Pr(prior) Pr(posterior) Inclusion BF\n",
      "DemandCue                         0.737         1.000 8.020563e+10\n",
      "Congruency                        0.737         1.000 3.290004e+13\n",
      "DemandCue:Congruency              0.316         0.162 4.190000e-01\n",
      "Feedback                          0.737         0.527 3.980000e-01\n",
      "DemandCue:Feedback                0.316         0.073 1.710000e-01\n",
      "Congruency:Feedback               0.316         0.062 1.430000e-01\n",
      "DemandCue:Congruency:Feedback     0.053         0.000 6.000000e-03\n",
      "\n",
      "Inclusion BFs compared among all models.\n"
     ]
    }
   ],
   "source": [
    "rawRTData <- read.csv('SC_ANOVA_RT.csv')\n",
    "rawRTData$RT <- as.numeric(as.character(rawRTData$RT))\n",
    "\n",
    "rawRTData <- within(rawRTData, {\n",
    "  subject <- factor(subject)\n",
    "  Congruency <- factor(Congruency)\n",
    "  DemandCue <- factor(DemandCue)\n",
    "   Feedback <- factor(Feedback)\n",
    "})\n",
    "\n",
    "SC_RT_runANOVA <- anovaBF(RT ~ DemandCue*Congruency*Feedback + subject,\n",
    "                                  data=rawRTData,\n",
    "                                  whichRandom=\"subject\")\n",
    "\n",
    "png(file=\"Bayes_SC_RT.png\", width = 3000, height = 700, res = 60)\n",
    "plot(SC_RT_runANOVA)\n",
    "dev.off()\n",
    "print(SC_RT_runANOVA)\n",
    "print(inclusionBF(SC_RT_runANOVA))"
   ]
  },
  {
   "cell_type": "code",
   "execution_count": 13,
   "metadata": {},
   "outputs": [
    {
     "data": {
      "text/html": [
       "<strong>png:</strong> 2"
      ],
      "text/latex": [
       "\\textbf{png:} 2"
      ],
      "text/markdown": [
       "**png:** 2"
      ],
      "text/plain": [
       "png \n",
       "  2 "
      ]
     },
     "metadata": {},
     "output_type": "display_data"
    },
    {
     "name": "stdout",
     "output_type": "stream",
     "text": [
      "Bayes factor analysis\n",
      "--------------\n",
      "[1] DemandCue + subject                                                                                                                            : 40833.8      ±0.82%\n",
      "[2] Congruency + subject                                                                                                                           : 12267699     ±1.1%\n",
      "[3] DemandCue + Congruency + subject                                                                                                               : 2.272794e+12 ±3.39%\n",
      "[4] DemandCue + Congruency + DemandCue:Congruency + subject                                                                                        : 1.862019e+12 ±5.59%\n",
      "[5] Feedback + subject                                                                                                                             : 0.3604507    ±0.46%\n",
      "[6] DemandCue + Feedback + subject                                                                                                                 : 15749.62     ±2.75%\n",
      "[7] Congruency + Feedback + subject                                                                                                                : 4573674      ±2.07%\n",
      "[8] DemandCue + Congruency + Feedback + subject                                                                                                    : 934085930343 ±4.5%\n",
      "[9] DemandCue + Congruency + DemandCue:Congruency + Feedback + subject                                                                             : 6.96375e+11  ±4.67%\n",
      "[10] DemandCue + Feedback + DemandCue:Feedback + subject                                                                                           : 2558.694     ±4.56%\n",
      "[11] DemandCue + Congruency + Feedback + DemandCue:Feedback + subject                                                                              : 140702562762 ±2.65%\n",
      "[12] DemandCue + Congruency + DemandCue:Congruency + Feedback + DemandCue:Feedback + subject                                                       : 1.09993e+11  ±2.86%\n",
      "[13] Congruency + Feedback + Congruency:Feedback + subject                                                                                         : 1226856      ±1.78%\n",
      "[14] DemandCue + Congruency + Feedback + Congruency:Feedback + subject                                                                             : 254526799075 ±4.61%\n",
      "[15] DemandCue + Congruency + DemandCue:Congruency + Feedback + Congruency:Feedback + subject                                                      : 1.96413e+11  ±5.36%\n",
      "[16] DemandCue + Congruency + Feedback + DemandCue:Feedback + Congruency:Feedback + subject                                                        : 39250432166  ±2.83%\n",
      "[17] DemandCue + Congruency + DemandCue:Congruency + Feedback + DemandCue:Feedback + Congruency:Feedback + subject                                 : 36599322290  ±13.03%\n",
      "[18] DemandCue + Congruency + DemandCue:Congruency + Feedback + DemandCue:Feedback + Congruency:Feedback + DemandCue:Congruency:Feedback + subject : 8974183582   ±7.08%\n",
      "\n",
      "Against denominator:\n",
      "  Accuracy ~ subject \n",
      "---\n",
      "Bayes factor type: BFlinearModel, JZS\n",
      "\n",
      "                              Pr(prior) Pr(posterior) Inclusion BF\n",
      "DemandCue                         0.737         1.000   129503.808\n",
      "Congruency                        0.737         1.000 39563297.507\n",
      "DemandCue:Congruency              0.316         0.444        1.732\n",
      "Feedback                          0.737         0.369        0.209\n",
      "DemandCue:Feedback                0.316         0.051        0.117\n",
      "Congruency:Feedback               0.316         0.082        0.193\n",
      "DemandCue:Congruency:Feedback     0.053         0.001        0.025\n",
      "\n",
      "Inclusion BFs compared among all models.\n"
     ]
    }
   ],
   "source": [
    "rawACCData <- read.csv('SC_ANOVA_ACC.csv')\n",
    "rawACCData$Accuracy <- as.numeric(as.character(rawACCData$Accuracy))\n",
    "\n",
    "rawACCData <- within(rawACCData, {\n",
    "  subject <- factor(subject)\n",
    "  Congruency <- factor(Congruency)\n",
    "  DemandCue <- factor(DemandCue)\n",
    "    Feedback <- factor(Feedback) \n",
    "})\n",
    "\n",
    "SC_ACC_runANOVA <- anovaBF(Accuracy ~ DemandCue*Congruency*Feedback + subject,\n",
    "                                  data=rawACCData,\n",
    "                                  whichRandom=\"subject\")\n",
    "\n",
    "png(file=\"Bayes_SC_ACC.png\", width = 3000, height = 700, res = 60)\n",
    "plot(SC_ACC_runANOVA)\n",
    "dev.off()\n",
    "print(SC_ACC_runANOVA)\n",
    "print(inclusionBF(SC_ACC_runANOVA))"
   ]
  },
  {
   "cell_type": "code",
   "execution_count": 14,
   "metadata": {},
   "outputs": [
    {
     "data": {
      "text/html": [
       "<strong>png:</strong> 2"
      ],
      "text/latex": [
       "\\textbf{png:} 2"
      ],
      "text/markdown": [
       "**png:** 2"
      ],
      "text/plain": [
       "png \n",
       "  2 "
      ]
     },
     "metadata": {},
     "output_type": "display_data"
    },
    {
     "name": "stdout",
     "output_type": "stream",
     "text": [
      "Bayes factor analysis\n",
      "--------------\n",
      "[1] Feedback + SubjectID                                                                                                                             : 0.3935707    ±3.56%\n",
      "[2] Congruency + SubjectID                                                                                                                           : 79335538489  ±1.01%\n",
      "[3] Feedback + Congruency + SubjectID                                                                                                                : 34713822464  ±3.97%\n",
      "[4] Feedback + Congruency + Feedback:Congruency + SubjectID                                                                                          : 6090447458   ±4.91%\n",
      "[5] DemandCue + SubjectID                                                                                                                            : 88751810     ±17.66%\n",
      "[6] Feedback + DemandCue + SubjectID                                                                                                                 : 30807655     ±4.04%\n",
      "[7] Congruency + DemandCue + SubjectID                                                                                                               : 2.378266e+20 ±3.98%\n",
      "[8] Feedback + Congruency + DemandCue + SubjectID                                                                                                    : 1.04919e+20  ±4.6%\n",
      "[9] Feedback + Congruency + Feedback:Congruency + DemandCue + SubjectID                                                                              : 2.12486e+19  ±5.38%\n",
      "[10] Feedback + DemandCue + Feedback:DemandCue + SubjectID                                                                                           : 4569211      ±5.12%\n",
      "[11] Feedback + Congruency + DemandCue + Feedback:DemandCue + SubjectID                                                                              : 1.368033e+19 ±5.87%\n",
      "[12] Feedback + Congruency + Feedback:Congruency + DemandCue + Feedback:DemandCue + SubjectID                                                        : 2.767366e+18 ±7.02%\n",
      "[13] Congruency + DemandCue + Congruency:DemandCue + SubjectID                                                                                       : 5.270793e+20 ±1.71%\n",
      "[14] Feedback + Congruency + DemandCue + Congruency:DemandCue + SubjectID                                                                            : 2.492659e+20 ±5.3%\n",
      "[15] Feedback + Congruency + Feedback:Congruency + DemandCue + Congruency:DemandCue + SubjectID                                                      : 4.27745e+19  ±5.89%\n",
      "[16] Feedback + Congruency + DemandCue + Feedback:DemandCue + Congruency:DemandCue + SubjectID                                                       : 3.521441e+19 ±6.69%\n",
      "[17] Feedback + Congruency + Feedback:Congruency + DemandCue + Feedback:DemandCue + Congruency:DemandCue + SubjectID                                 : 6.591812e+18 ±7.62%\n",
      "[18] Feedback + Congruency + Feedback:Congruency + DemandCue + Feedback:DemandCue + Congruency:DemandCue + Feedback:Congruency:DemandCue + SubjectID : 1.935738e+18 ±8.82%\n",
      "\n",
      "Against denominator:\n",
      "  IE ~ SubjectID \n",
      "---\n",
      "Bayes factor type: BFlinearModel, JZS\n",
      "\n",
      "                              Pr(prior) Pr(posterior) Inclusion BF\n",
      "Feedback                          0.737         0.385 2.230000e-01\n",
      "Congruency                        0.737         1.000 3.577231e+12\n",
      "Feedback:Congruency               0.316         0.061 1.400000e-01\n",
      "DemandCue                         0.737         1.000 3.696002e+09\n",
      "Feedback:DemandCue                0.316         0.048 1.100000e-01\n",
      "Congruency:DemandCue              0.316         0.694 4.914000e+00\n",
      "Feedback:Congruency:DemandCue     0.053         0.002 2.800000e-02\n",
      "\n",
      "Inclusion BFs compared among all models.\n"
     ]
    }
   ],
   "source": [
    "IEdata <- read.csv('IE_Main.csv')\n",
    "IEdata$IE <- as.numeric(as.character(IEdata$IE))\n",
    "\n",
    "IEdata <- within(IEdata, {\n",
    "  SubjectID <- factor(SubjectID)\n",
    "  Congruency <- factor(Congruency)\n",
    "  DemandCue <- factor(DemandCue)\n",
    "  Feedback <- factor(Feedback)\n",
    "})\n",
    "\n",
    "SC_IE_runANOVA <- anovaBF(IE ~ DemandCue*Congruency*Feedback+ SubjectID,\n",
    "                          data=IEdata,\n",
    "                          whichRandom=\"SubjectID\")\n",
    "\n",
    "png(file=\"Bayes_SC_IE.png\", width = 3000, height = 700, res = 60)\n",
    "plot(SC_IE_runANOVA)\n",
    "dev.off()\n",
    "print(SC_IE_runANOVA)\n",
    "print(inclusionBF(SC_IE_runANOVA))"
   ]
  },
  {
   "cell_type": "markdown",
   "metadata": {},
   "source": [
    "What about transfer?"
   ]
  },
  {
   "cell_type": "code",
   "execution_count": 15,
   "metadata": {},
   "outputs": [
    {
     "data": {
      "text/html": [
       "<strong>png:</strong> 2"
      ],
      "text/latex": [
       "\\textbf{png:} 2"
      ],
      "text/markdown": [
       "**png:** 2"
      ],
      "text/plain": [
       "png \n",
       "  2 "
      ]
     },
     "metadata": {},
     "output_type": "display_data"
    },
    {
     "name": "stdout",
     "output_type": "stream",
     "text": [
      "Bayes factor analysis\n",
      "--------------\n",
      "[1] DemandCue + subject                                                                                                                            : 52714.21 ±2.49%\n",
      "[2] Congruency + subject                                                                                                                           : 188.4941 ±1.36%\n",
      "[3] DemandCue + Congruency + subject                                                                                                               : 17152211 ±1.58%\n",
      "[4] DemandCue + Congruency + DemandCue:Congruency + subject                                                                                        : 3054048  ±8.76%\n",
      "[5] Feedback + subject                                                                                                                             : 1.314848 ±10.05%\n",
      "[6] DemandCue + Feedback + subject                                                                                                                 : 89802.77 ±4.89%\n",
      "[7] Congruency + Feedback + subject                                                                                                                : 238.5588 ±7.94%\n",
      "[8] DemandCue + Congruency + Feedback + subject                                                                                                    : 27632646 ±21.8%\n",
      "[9] DemandCue + Congruency + DemandCue:Congruency + Feedback + subject                                                                             : 2763342  ±5.48%\n",
      "[10] DemandCue + Feedback + DemandCue:Feedback + subject                                                                                           : 17972.38 ±4.28%\n",
      "[11] DemandCue + Congruency + Feedback + DemandCue:Feedback + subject                                                                              : 10075584 ±34.48%\n",
      "[12] DemandCue + Congruency + DemandCue:Congruency + Feedback + DemandCue:Feedback + subject                                                       : 1062897  ±11.43%\n",
      "[13] Congruency + Feedback + Congruency:Feedback + subject                                                                                         : 43.56395 ±16.51%\n",
      "[14] DemandCue + Congruency + Feedback + Congruency:Feedback + subject                                                                             : 5062646  ±7.2%\n",
      "[15] DemandCue + Congruency + DemandCue:Congruency + Feedback + Congruency:Feedback + subject                                                      : 617951.8 ±16.47%\n",
      "[16] DemandCue + Congruency + Feedback + DemandCue:Feedback + Congruency:Feedback + subject                                                        : 1489016  ±29.99%\n",
      "[17] DemandCue + Congruency + DemandCue:Congruency + Feedback + DemandCue:Feedback + Congruency:Feedback + subject                                 : 182944.1 ±21.66%\n",
      "[18] DemandCue + Congruency + DemandCue:Congruency + Feedback + DemandCue:Feedback + Congruency:Feedback + DemandCue:Congruency:Feedback + subject : 36547.42 ±5.81%\n",
      "\n",
      "Against denominator:\n",
      "  RT ~ subject \n",
      "---\n",
      "Bayes factor type: BFlinearModel, JZS\n",
      "\n",
      "                              Pr(prior) Pr(posterior) Inclusion BF\n",
      "DemandCue                         0.737         1.000    52325.831\n",
      "Congruency                        0.737         0.998      153.836\n",
      "DemandCue:Congruency              0.316         0.111        0.272\n",
      "Feedback                          0.737         0.708        0.864\n",
      "DemandCue:Feedback                0.316         0.186        0.494\n",
      "Congruency:Feedback               0.316         0.107        0.259\n",
      "DemandCue:Congruency:Feedback     0.053         0.001        0.009\n",
      "\n",
      "Inclusion BFs compared among all models.\n"
     ]
    }
   ],
   "source": [
    "rawRTData_T <- read.csv('SCT_ANOVA_RT.csv')\n",
    "rawRTData_T$RT <- as.numeric(as.character(rawRTData_T$RT))\n",
    "\n",
    "rawRTData_T <- within(rawRTData_T, {\n",
    "  subject <- factor(subject)\n",
    "  Congruency <- factor(Congruency)\n",
    "  DemandCue <- factor(DemandCue)\n",
    "   Feedback <- factor(Feedback)\n",
    "})\n",
    "\n",
    "SCT_RT_runANOVA <- anovaBF(RT ~ DemandCue*Congruency*Feedback + subject,\n",
    "                                  data=rawRTData_T,\n",
    "                                  whichRandom=\"subject\")\n",
    "\n",
    "png(file=\"Bayes_SCT_RT.png\", width = 3000, height = 700, res = 60)\n",
    "plot(SCT_RT_runANOVA)\n",
    "dev.off()\n",
    "print(SCT_RT_runANOVA)\n",
    "print(inclusionBF(SCT_RT_runANOVA))"
   ]
  },
  {
   "cell_type": "code",
   "execution_count": 16,
   "metadata": {},
   "outputs": [
    {
     "data": {
      "text/html": [
       "<strong>png:</strong> 2"
      ],
      "text/latex": [
       "\\textbf{png:} 2"
      ],
      "text/markdown": [
       "**png:** 2"
      ],
      "text/plain": [
       "png \n",
       "  2 "
      ]
     },
     "metadata": {},
     "output_type": "display_data"
    },
    {
     "name": "stdout",
     "output_type": "stream",
     "text": [
      "Bayes factor analysis\n",
      "--------------\n",
      "[1] DemandCue + subject                                                                                                                            : 1.963719    ±1.1%\n",
      "[2] Congruency + subject                                                                                                                           : 0.6907847   ±2.72%\n",
      "[3] DemandCue + Congruency + subject                                                                                                               : 1.37577     ±2.26%\n",
      "[4] DemandCue + Congruency + DemandCue:Congruency + subject                                                                                        : 0.2073411   ±2.14%\n",
      "[5] Feedback + subject                                                                                                                             : 0.2857169   ±3.32%\n",
      "[6] DemandCue + Feedback + subject                                                                                                                 : 0.5996498   ±4.05%\n",
      "[7] Congruency + Feedback + subject                                                                                                                : 0.2027593   ±4.01%\n",
      "[8] DemandCue + Congruency + Feedback + subject                                                                                                    : 0.4390646   ±4.56%\n",
      "[9] DemandCue + Congruency + DemandCue:Congruency + Feedback + subject                                                                             : 0.06342391  ±5.91%\n",
      "[10] DemandCue + Feedback + DemandCue:Feedback + subject                                                                                           : 0.1034217   ±4.78%\n",
      "[11] DemandCue + Congruency + Feedback + DemandCue:Feedback + subject                                                                              : 0.07862316  ±6.03%\n",
      "[12] DemandCue + Congruency + DemandCue:Congruency + Feedback + DemandCue:Feedback + subject                                                       : 0.01170327  ±7.93%\n",
      "[13] Congruency + Feedback + Congruency:Feedback + subject                                                                                         : 0.2351218   ±4.83%\n",
      "[14] DemandCue + Congruency + Feedback + Congruency:Feedback + subject                                                                             : 0.4804829   ±5.49%\n",
      "[15] DemandCue + Congruency + DemandCue:Congruency + Feedback + Congruency:Feedback + subject                                                      : 0.07941002  ±7.24%\n",
      "[16] DemandCue + Congruency + Feedback + DemandCue:Feedback + Congruency:Feedback + subject                                                        : 0.0929075   ±7.62%\n",
      "[17] DemandCue + Congruency + DemandCue:Congruency + Feedback + DemandCue:Feedback + Congruency:Feedback + subject                                 : 0.01487905  ±8.69%\n",
      "[18] DemandCue + Congruency + DemandCue:Congruency + Feedback + DemandCue:Feedback + Congruency:Feedback + DemandCue:Congruency:Feedback + subject : 0.002494396 ±8.18%\n",
      "\n",
      "Against denominator:\n",
      "  Accuracy ~ subject \n",
      "---\n",
      "Bayes factor type: BFlinearModel, JZS\n",
      "\n",
      "                              Pr(prior) Pr(posterior) Inclusion BF\n",
      "DemandCue                         0.737         0.695        0.815\n",
      "Congruency                        0.737         0.501        0.359\n",
      "DemandCue:Congruency              0.316         0.048        0.109\n",
      "Feedback                          0.737         0.339        0.183\n",
      "DemandCue:Feedback                0.316         0.038        0.086\n",
      "Congruency:Feedback               0.316         0.114        0.279\n",
      "DemandCue:Congruency:Feedback     0.053         0.000        0.006\n",
      "\n",
      "Inclusion BFs compared among all models.\n"
     ]
    }
   ],
   "source": [
    "rawACCData_T <- read.csv('SCT_ANOVA_ACC.csv')\n",
    "rawACCData_T$Accuracy <- as.numeric(as.character(rawACCData_T$Accuracy))\n",
    "\n",
    "rawACCData_T <- within(rawACCData_T, {\n",
    "  subject <- factor(subject)\n",
    "  Congruency <- factor(Congruency)\n",
    "  DemandCue <- factor(DemandCue)\n",
    "    Feedback <- factor(Feedback)\n",
    "})\n",
    "\n",
    "SCT_ACC_runANOVA <- anovaBF(Accuracy ~ DemandCue*Congruency*Feedback + subject,\n",
    "                                  data=rawACCData_T,\n",
    "                                  whichRandom=\"subject\")\n",
    "\n",
    "png(file=\"Bayes_SCT_ACC.png\", width = 3000, height = 700, res = 60)\n",
    "plot(SCT_ACC_runANOVA)\n",
    "dev.off()\n",
    "print(SCT_ACC_runANOVA)\n",
    "print(inclusionBF(SCT_ACC_runANOVA))"
   ]
  },
  {
   "cell_type": "code",
   "execution_count": 17,
   "metadata": {},
   "outputs": [
    {
     "data": {
      "text/html": [
       "<strong>png:</strong> 2"
      ],
      "text/latex": [
       "\\textbf{png:} 2"
      ],
      "text/markdown": [
       "**png:** 2"
      ],
      "text/plain": [
       "png \n",
       "  2 "
      ]
     },
     "metadata": {},
     "output_type": "display_data"
    },
    {
     "name": "stdout",
     "output_type": "stream",
     "text": [
      "Bayes factor analysis\n",
      "--------------\n",
      "[1] Feedback + SubjectID                                                                                                                             : 0.6448564 ±0.92%\n",
      "[2] Congruency + SubjectID                                                                                                                           : 8.844265  ±2.2%\n",
      "[3] Feedback + Congruency + SubjectID                                                                                                                : 5.563214  ±2.03%\n",
      "[4] Feedback + Congruency + Feedback:Congruency + SubjectID                                                                                          : 2.149726  ±6.71%\n",
      "[5] DemandCue + SubjectID                                                                                                                            : 27.40482  ±1%\n",
      "[6] Feedback + DemandCue + SubjectID                                                                                                                 : 17.96884  ±1.45%\n",
      "[7] Congruency + DemandCue + SubjectID                                                                                                               : 264.631   ±1.57%\n",
      "[8] Feedback + Congruency + DemandCue + SubjectID                                                                                                    : 186.5468  ±3.9%\n",
      "[9] Feedback + Congruency + Feedback:Congruency + DemandCue + SubjectID                                                                              : 62.48847  ±2.11%\n",
      "[10] Feedback + DemandCue + Feedback:DemandCue + SubjectID                                                                                           : 2.667742  ±2.53%\n",
      "[11] Feedback + Congruency + DemandCue + Feedback:DemandCue + SubjectID                                                                              : 31.56065  ±12.6%\n",
      "[12] Feedback + Congruency + Feedback:Congruency + DemandCue + Feedback:DemandCue + SubjectID                                                        : 9.224781  ±3.92%\n",
      "[13] Congruency + DemandCue + Congruency:DemandCue + SubjectID                                                                                       : 42.94129  ±2.21%\n",
      "[14] Feedback + Congruency + DemandCue + Congruency:DemandCue + SubjectID                                                                            : 28.58561  ±3.9%\n",
      "[15] Feedback + Congruency + Feedback:Congruency + DemandCue + Congruency:DemandCue + SubjectID                                                      : 10.57983  ±5.24%\n",
      "[16] Feedback + Congruency + DemandCue + Feedback:DemandCue + Congruency:DemandCue + SubjectID                                                       : 4.259073  ±8.11%\n",
      "[17] Feedback + Congruency + Feedback:Congruency + DemandCue + Feedback:DemandCue + Congruency:DemandCue + SubjectID                                 : 1.544682  ±3.99%\n",
      "[18] Feedback + Congruency + Feedback:Congruency + DemandCue + Feedback:DemandCue + Congruency:DemandCue + Feedback:Congruency:DemandCue + SubjectID : 0.3133801 ±5.47%\n",
      "\n",
      "Against denominator:\n",
      "  IE ~ SubjectID \n",
      "---\n",
      "Bayes factor type: BFlinearModel, JZS\n",
      "\n",
      "                              Pr(prior) Pr(posterior) Inclusion BF\n",
      "Feedback                          0.737         0.514        0.377\n",
      "Congruency                        0.737         0.930        4.739\n",
      "Feedback:Congruency               0.316         0.122        0.300\n",
      "DemandCue                         0.737         0.974       13.553\n",
      "Feedback:DemandCue                0.316         0.070        0.163\n",
      "Congruency:DemandCue              0.316         0.124        0.308\n",
      "Feedback:Congruency:DemandCue     0.053         0.000        0.008\n",
      "\n",
      "Inclusion BFs compared among all models.\n"
     ]
    }
   ],
   "source": [
    "IEdata_T <- read.csv('IE_transfer.csv')\n",
    "IEdata_T$IE <- as.numeric(as.character(IEdata_T$IE))\n",
    "\n",
    "IEdata_T <- within(IEdata_T, {\n",
    "  SubjectID <- factor(SubjectID)\n",
    "  Congruency <- factor(Congruency)\n",
    "  DemandCue <- factor(DemandCue)\n",
    "  Feedback <- factor(Feedback)\n",
    "})\n",
    "\n",
    "SC_IET_runANOVA <- anovaBF(IE ~ DemandCue*Congruency*Feedback + SubjectID,\n",
    "                           data=IEdata_T,\n",
    "                           whichRandom=\"SubjectID\")\n",
    "\n",
    "png(file=\"Bayes_SC_IE_T.png\", width = 3000, height = 700, res = 60)\n",
    "plot(SC_IET_runANOVA)\n",
    "dev.off()\n",
    "print(SC_IET_runANOVA)\n",
    "print(inclusionBF(SC_IET_runANOVA))"
   ]
  }
 ],
 "metadata": {
  "kernelspec": {
   "display_name": "R",
   "language": "R",
   "name": "ir"
  },
  "language_info": {
   "codemirror_mode": "r",
   "file_extension": ".r",
   "mimetype": "text/x-r-source",
   "name": "R",
   "pygments_lexer": "r",
   "version": "3.5.1"
  }
 },
 "nbformat": 4,
 "nbformat_minor": 2
}
