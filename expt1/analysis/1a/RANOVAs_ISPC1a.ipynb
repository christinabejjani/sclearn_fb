{
 "cells": [
  {
   "cell_type": "markdown",
   "metadata": {},
   "source": [
    "For some reason, the jupyter magic used to call the R script in the Python Jupyter notebook is calling R version 3.4.3, which I do not even have installed on my computer. So, in the meantime, I will run these R scripts in an actual 3.5.1 notebook..."
   ]
  },
  {
   "cell_type": "code",
   "execution_count": 1,
   "metadata": {},
   "outputs": [],
   "source": [
    "setwd(\"C:/Users/cb383/Desktop/YearThree/controllearning/fbproject/ispc/data/csvdata\")"
   ]
  },
  {
   "cell_type": "code",
   "execution_count": 2,
   "metadata": {},
   "outputs": [
    {
     "name": "stderr",
     "output_type": "stream",
     "text": [
      "Warning message:\n",
      "\"package 'afex' was built under R version 3.5.3\"Loading required package: lme4\n",
      "Loading required package: Matrix\n",
      "************\n",
      "Welcome to afex. For support visit: http://afex.singmann.science/\n",
      "- Functions for ANOVAs: aov_car(), aov_ez(), and aov_4()\n",
      "- Methods for calculating p-values with mixed(): 'KR', 'S', 'LRT', and 'PB'\n",
      "- 'afex_aov' and 'mixed' objects can be passed to emmeans() for follow-up tests\n",
      "- NEWS: library('emmeans') now needs to be called explicitly!\n",
      "- Get and set global package options with: afex_options()\n",
      "- Set orthogonal sum-to-zero contrasts globally: set_sum_contrasts()\n",
      "- For example analyses see: browseVignettes(\"afex\")\n",
      "************\n",
      "\n",
      "Attaching package: 'afex'\n",
      "\n",
      "The following object is masked from 'package:lme4':\n",
      "\n",
      "    lmer\n",
      "\n"
     ]
    }
   ],
   "source": [
    "library(afex)"
   ]
  },
  {
   "cell_type": "code",
   "execution_count": 3,
   "metadata": {},
   "outputs": [
    {
     "name": "stderr",
     "output_type": "stream",
     "text": [
      "Contrasts set to contr.sum for the following variables: Feedback\n"
     ]
    },
    {
     "data": {
      "text/plain": [
       "Anova Table (Type 3 tests)\n",
       "\n",
       "Response: RT\n",
       "                         Effect    df      MSE         F    pes p.value\n",
       "1                      Feedback 1, 58 12318.91      0.51   .009     .48\n",
       "2                    Congruency 1, 58   175.65 53.22 ***    .48  <.0001\n",
       "3           Feedback:Congruency 1, 58   175.65      0.51   .009     .48\n",
       "4                     DemandCue 1, 58   630.38    4.50 *    .07     .04\n",
       "5            Feedback:DemandCue 1, 58   630.38      0.41   .007     .52\n",
       "6          Congruency:DemandCue 1, 58   101.88      0.00 <.0001     .96\n",
       "7 Feedback:Congruency:DemandCue 1, 58   101.88    4.54 *    .07     .04\n",
       "---\n",
       "Signif. codes:  0 '***' 0.001 '**' 0.01 '*' 0.05 '+' 0.1 ' ' 1"
      ]
     },
     "metadata": {},
     "output_type": "display_data"
    }
   ],
   "source": [
    "rawRTData <- read.csv('SC_ANOVA_RT.csv')\n",
    "aov_car(RT ~ Feedback + Error(subject/(Congruency*DemandCue)), data = rawRTData, anova_table = list(es = \"pes\"))\n"
   ]
  },
  {
   "cell_type": "code",
   "execution_count": 5,
   "metadata": {},
   "outputs": [
    {
     "name": "stderr",
     "output_type": "stream",
     "text": [
      "Contrasts set to contr.sum for the following variables: Feedback\n"
     ]
    },
    {
     "data": {
      "text/plain": [
       "Anova Table (Type 3 tests)\n",
       "\n",
       "Response: Accuracy\n",
       "                         Effect    df  MSE         F  pes p.value\n",
       "1                      Feedback 1, 58 0.03      1.65  .03     .20\n",
       "2                    Congruency 1, 58 0.00 12.47 ***  .18   .0008\n",
       "3           Feedback:Congruency 1, 58 0.00      0.30 .005     .58\n",
       "4                     DemandCue 1, 58 0.00      1.98  .03     .16\n",
       "5            Feedback:DemandCue 1, 58 0.00      2.22  .04     .14\n",
       "6          Congruency:DemandCue 1, 58 0.00    6.00 *  .09     .02\n",
       "7 Feedback:Congruency:DemandCue 1, 58 0.00      0.59  .01     .44\n",
       "---\n",
       "Signif. codes:  0 '***' 0.001 '**' 0.01 '*' 0.05 '+' 0.1 ' ' 1"
      ]
     },
     "metadata": {},
     "output_type": "display_data"
    }
   ],
   "source": [
    "rawACCData <- read.csv('SC_ANOVA_ACC.csv')\n",
    "aov_car(Accuracy ~ Feedback + Error(subject/(Congruency*DemandCue)), data = rawACCData, anova_table = list(es = \"pes\"))"
   ]
  },
  {
   "cell_type": "code",
   "execution_count": 7,
   "metadata": {},
   "outputs": [
    {
     "name": "stderr",
     "output_type": "stream",
     "text": [
      "Contrasts set to contr.sum for the following variables: Feedback\n"
     ]
    },
    {
     "data": {
      "text/plain": [
       "Anova Table (Type 3 tests)\n",
       "\n",
       "Response: IE\n",
       "                         Effect    df      MSE         F  pes p.value\n",
       "1                      Feedback 1, 58 64815.78      0.11 .002     .74\n",
       "2                    Congruency 1, 58  3692.98 22.93 ***  .28  <.0001\n",
       "3           Feedback:Congruency 1, 58  3692.98      0.13 .002     .72\n",
       "4                     DemandCue 1, 58  5670.65      2.61  .04     .11\n",
       "5            Feedback:DemandCue 1, 58  5670.65      0.32 .006     .57\n",
       "6          Congruency:DemandCue 1, 58  1898.25   7.81 **  .12    .007\n",
       "7 Feedback:Congruency:DemandCue 1, 58  1898.25      0.08 .001     .78\n",
       "---\n",
       "Signif. codes:  0 '***' 0.001 '**' 0.01 '*' 0.05 '+' 0.1 ' ' 1"
      ]
     },
     "metadata": {},
     "output_type": "display_data"
    }
   ],
   "source": [
    "rawIEData <- read.csv('IE_Main.csv')\n",
    "aov_car(IE ~ Feedback + Error(SubjectID/(Congruency*DemandCue)), data = rawIEData, anova_table = list(es = \"pes\"))"
   ]
  },
  {
   "cell_type": "markdown",
   "metadata": {},
   "source": [
    "What about transfer?"
   ]
  },
  {
   "cell_type": "code",
   "execution_count": 4,
   "metadata": {},
   "outputs": [
    {
     "name": "stderr",
     "output_type": "stream",
     "text": [
      "Contrasts set to contr.sum for the following variables: Feedback\n"
     ]
    },
    {
     "data": {
      "text/plain": [
       "Anova Table (Type 3 tests)\n",
       "\n",
       "Response: RT\n",
       "                         Effect    df      MSE      F    pes p.value\n",
       "1                      Feedback 1, 58 12481.07   0.01 <.0001     .94\n",
       "2                    Congruency 1, 58   244.53 2.84 +    .05     .10\n",
       "3           Feedback:Congruency 1, 58   244.53   0.03  .0005     .86\n",
       "4                     DemandCue 1, 58   985.20   1.27    .02     .26\n",
       "5            Feedback:DemandCue 1, 58   985.20   0.42   .007     .52\n",
       "6          Congruency:DemandCue 1, 58   248.07   0.15   .003     .70\n",
       "7 Feedback:Congruency:DemandCue 1, 58   248.07   0.87    .01     .35\n",
       "---\n",
       "Signif. codes:  0 '***' 0.001 '**' 0.01 '*' 0.05 '+' 0.1 ' ' 1"
      ]
     },
     "metadata": {},
     "output_type": "display_data"
    }
   ],
   "source": [
    "rawRTData_T <- read.csv('SCT_ANOVA_RT.csv')\n",
    "aov_car(RT ~ Feedback + Error(subject/(Congruency*DemandCue)), data = rawRTData_T, anova_table = list(es = \"pes\"))"
   ]
  },
  {
   "cell_type": "code",
   "execution_count": 6,
   "metadata": {},
   "outputs": [
    {
     "name": "stderr",
     "output_type": "stream",
     "text": [
      "Contrasts set to contr.sum for the following variables: Feedback\n"
     ]
    },
    {
     "data": {
      "text/plain": [
       "Anova Table (Type 3 tests)\n",
       "\n",
       "Response: Accuracy\n",
       "                         Effect    df  MSE      F  pes p.value\n",
       "1                      Feedback 1, 58 0.03 2.97 +  .05     .09\n",
       "2                    Congruency 1, 58 0.00   2.13  .04     .15\n",
       "3           Feedback:Congruency 1, 58 0.00 2.91 +  .05     .09\n",
       "4                     DemandCue 1, 58 0.00   1.09  .02     .30\n",
       "5            Feedback:DemandCue 1, 58 0.00   0.17 .003     .68\n",
       "6          Congruency:DemandCue 1, 58 0.00   0.53 .009     .47\n",
       "7 Feedback:Congruency:DemandCue 1, 58 0.00   0.77  .01     .38\n",
       "---\n",
       "Signif. codes:  0 '***' 0.001 '**' 0.01 '*' 0.05 '+' 0.1 ' ' 1"
      ]
     },
     "metadata": {},
     "output_type": "display_data"
    }
   ],
   "source": [
    "rawACCData_T <- read.csv('SCT_ANOVA_ACC.csv')\n",
    "aov_car(Accuracy ~ Feedback + Error(subject/(Congruency*DemandCue)), data = rawACCData_T, anova_table = list(es = \"pes\"))"
   ]
  },
  {
   "cell_type": "code",
   "execution_count": 8,
   "metadata": {},
   "outputs": [
    {
     "name": "stderr",
     "output_type": "stream",
     "text": [
      "Contrasts set to contr.sum for the following variables: Feedback\n"
     ]
    },
    {
     "data": {
      "text/plain": [
       "Anova Table (Type 3 tests)\n",
       "\n",
       "Response: IE\n",
       "                         Effect    df      MSE    F   pes p.value\n",
       "1                      Feedback 1, 58 75957.26 1.52   .03     .22\n",
       "2                    Congruency 1, 58  9641.68 2.69   .04     .11\n",
       "3           Feedback:Congruency 1, 58  9641.68 2.05   .03     .16\n",
       "4                     DemandCue 1, 58  9502.10 0.01 .0001     .94\n",
       "5            Feedback:DemandCue 1, 58  9502.10 0.06  .001     .81\n",
       "6          Congruency:DemandCue 1, 58  3602.57 0.58  .010     .45\n",
       "7 Feedback:Congruency:DemandCue 1, 58  3602.57 0.23  .004     .63\n",
       "---\n",
       "Signif. codes:  0 '***' 0.001 '**' 0.01 '*' 0.05 '+' 0.1 ' ' 1"
      ]
     },
     "metadata": {},
     "output_type": "display_data"
    }
   ],
   "source": [
    "rawIEData_T <- read.csv('IE_transfer.csv')\n",
    "aov_car(IE ~ Feedback + Error(SubjectID/(Congruency*DemandCue)), data = rawIEData_T, anova_table = list(es = \"pes\"))"
   ]
  },
  {
   "cell_type": "markdown",
   "metadata": {},
   "source": [
    "The exploratory ANOVAs on the CSE at the end of the Jupyter notebook.."
   ]
  },
  {
   "cell_type": "code",
   "execution_count": 9,
   "metadata": {},
   "outputs": [
    {
     "name": "stderr",
     "output_type": "stream",
     "text": [
      "Contrasts set to contr.sum for the following variables: Feedback\n"
     ]
    },
    {
     "data": {
      "text/plain": [
       "Anova Table (Type 3 tests)\n",
       "\n",
       "Response: RT\n",
       "                        Effect    df      MSE         F    pes p.value\n",
       "1                     Feedback 1, 58 12601.80      0.34   .006     .56\n",
       "2                     PrevCong 1, 58    91.14      0.10   .002     .76\n",
       "3            Feedback:PrevCong 1, 58    91.14      0.00 <.0001     .99\n",
       "4                   Congruency 1, 58   306.76 16.40 ***    .22   .0002\n",
       "5          Feedback:Congruency 1, 58   306.76      0.97    .02     .33\n",
       "6          PrevCong:Congruency 1, 58   159.32    3.77 +    .06     .06\n",
       "7 Feedback:PrevCong:Congruency 1, 58   159.32      1.74    .03     .19\n",
       "---\n",
       "Signif. codes:  0 '***' 0.001 '**' 0.01 '*' 0.05 '+' 0.1 ' ' 1"
      ]
     },
     "metadata": {},
     "output_type": "display_data"
    }
   ],
   "source": [
    "CSE_RT <- read.csv('CSE_ANOVA_RT.csv')\n",
    "aov_car(RT ~ Feedback + Error(subject/(PrevCong*Congruency)), data = CSE_RT, anova_table = list(es = \"pes\"))"
   ]
  },
  {
   "cell_type": "code",
   "execution_count": 10,
   "metadata": {},
   "outputs": [
    {
     "name": "stderr",
     "output_type": "stream",
     "text": [
      "Contrasts set to contr.sum for the following variables: Feedback\n"
     ]
    },
    {
     "data": {
      "text/plain": [
       "Anova Table (Type 3 tests)\n",
       "\n",
       "Response: Accuracy\n",
       "                        Effect    df  MSE       F   pes p.value\n",
       "1                     Feedback 1, 58 0.03    1.59   .03     .21\n",
       "2                     PrevCong 1, 58 0.00    0.08  .001     .78\n",
       "3            Feedback:PrevCong 1, 58 0.00    0.15  .003     .70\n",
       "4                   Congruency 1, 58 0.00 9.03 **   .13    .004\n",
       "5          Feedback:Congruency 1, 58 0.00    0.06  .001     .81\n",
       "6          PrevCong:Congruency 1, 58 0.00    0.05 .0009     .82\n",
       "7 Feedback:PrevCong:Congruency 1, 58 0.00    0.02 .0004     .88\n",
       "---\n",
       "Signif. codes:  0 '***' 0.001 '**' 0.01 '*' 0.05 '+' 0.1 ' ' 1"
      ]
     },
     "metadata": {},
     "output_type": "display_data"
    }
   ],
   "source": [
    "CSE_ACC <- read.csv('CSE_ANOVA_ACC.csv')\n",
    "aov_car(Accuracy ~ Feedback + Error(subject/(PrevCong*Congruency)), data = CSE_ACC, anova_table = list(es = \"pes\"))"
   ]
  },
  {
   "cell_type": "markdown",
   "metadata": {},
   "source": [
    "### Bayesian ANOVAs"
   ]
  },
  {
   "cell_type": "code",
   "execution_count": 11,
   "metadata": {},
   "outputs": [
    {
     "name": "stderr",
     "output_type": "stream",
     "text": [
      "Loading required package: coda\n",
      "Warning message:\n",
      "\"package 'coda' was built under R version 3.5.2\"************\n",
      "Welcome to BayesFactor 0.9.12-4.2. If you have questions, please contact Richard Morey (richarddmorey@gmail.com).\n",
      "\n",
      "Type BFManual() to open the manual.\n",
      "************\n",
      "Warning message:\n",
      "\"replacing previous import 'magrittr::set_names' by 'purrr::set_names' when loading 'BFEffects'\""
     ]
    }
   ],
   "source": [
    "library(methods)\n",
    "library(BayesFactor)\n",
    "library(BFEffects)"
   ]
  },
  {
   "cell_type": "code",
   "execution_count": 14,
   "metadata": {},
   "outputs": [
    {
     "data": {
      "text/html": [
       "<strong>png:</strong> 2"
      ],
      "text/latex": [
       "\\textbf{png:} 2"
      ],
      "text/markdown": [
       "**png:** 2"
      ],
      "text/plain": [
       "png \n",
       "  2 "
      ]
     },
     "metadata": {},
     "output_type": "display_data"
    },
    {
     "name": "stdout",
     "output_type": "stream",
     "text": [
      "Bayes factor analysis\n",
      "--------------\n",
      "[1] DemandCue + subject                                                                                                                            : 5.843226  ±1.57%\n",
      "[2] Congruency + subject                                                                                                                           : 68662.1   ±1.31%\n",
      "[3] DemandCue + Congruency + subject                                                                                                               : 738234.6  ±1.38%\n",
      "[4] DemandCue + Congruency + DemandCue:Congruency + subject                                                                                        : 143519.5  ±1.89%\n",
      "[5] Feedback + subject                                                                                                                             : 0.6388728 ±3.27%\n",
      "[6] DemandCue + Feedback + subject                                                                                                                 : 3.819254  ±3.78%\n",
      "[7] Congruency + Feedback + subject                                                                                                                : 47331.05  ±3.69%\n",
      "[8] DemandCue + Congruency + Feedback + subject                                                                                                    : 506595.5  ±4.25%\n",
      "[9] DemandCue + Congruency + DemandCue:Congruency + Feedback + subject                                                                             : 96457.51  ±5.18%\n",
      "[10] DemandCue + Feedback + DemandCue:Feedback + subject                                                                                           : 0.9644912 ±4.76%\n",
      "[11] DemandCue + Congruency + Feedback + DemandCue:Feedback + subject                                                                              : 131851.9  ±5.31%\n",
      "[12] DemandCue + Congruency + DemandCue:Congruency + Feedback + DemandCue:Feedback + subject                                                       : 26514.82  ±6.51%\n",
      "[13] Congruency + Feedback + Congruency:Feedback + subject                                                                                         : 9766.972  ±4.61%\n",
      "[14] DemandCue + Congruency + Feedback + Congruency:Feedback + subject                                                                             : 119050.3  ±5.38%\n",
      "[15] DemandCue + Congruency + DemandCue:Congruency + Feedback + Congruency:Feedback + subject                                                      : 20579.41  ±6.7%\n",
      "[16] DemandCue + Congruency + Feedback + DemandCue:Feedback + Congruency:Feedback + subject                                                        : 32664.14  ±6.36%\n",
      "[17] DemandCue + Congruency + DemandCue:Congruency + Feedback + DemandCue:Feedback + Congruency:Feedback + subject                                 : 6807.872  ±8.26%\n",
      "[18] DemandCue + Congruency + DemandCue:Congruency + Feedback + DemandCue:Feedback + Congruency:Feedback + DemandCue:Congruency:Feedback + subject : 2813.512  ±8.11%\n",
      "\n",
      "Against denominator:\n",
      "  RT ~ subject \n",
      "---\n",
      "Bayes factor type: BFlinearModel, JZS\n",
      "\n",
      "                              Pr(prior) Pr(posterior) Inclusion BF\n",
      "DemandCue                         0.737         0.936        5.183\n",
      "Congruency                        0.737         1.000    56802.602\n",
      "DemandCue:Congruency              0.316         0.152        0.389\n",
      "Feedback                          0.737         0.513        0.376\n",
      "DemandCue:Feedback                0.316         0.103        0.248\n",
      "Congruency:Feedback               0.316         0.098        0.236\n",
      "DemandCue:Congruency:Feedback     0.053         0.001        0.026\n",
      "\n",
      "Inclusion BFs compared among all models.\n"
     ]
    }
   ],
   "source": [
    "rawRTData <- read.csv('SC_ANOVA_RT.csv')\n",
    "rawRTData$RT <- as.numeric(as.character(rawRTData$RT))\n",
    "\n",
    "rawRTData <- within(rawRTData, {\n",
    "  subject <- factor(subject)\n",
    "  Congruency <- factor(Congruency)\n",
    "  DemandCue <- factor(DemandCue)\n",
    "   Feedback <- factor(Feedback)\n",
    "})\n",
    "\n",
    "SC_RT_runANOVA <- anovaBF(RT ~ DemandCue*Congruency*Feedback + subject,\n",
    "                                  data=rawRTData,\n",
    "                                  whichRandom=\"subject\")\n",
    "\n",
    "png(file=\"Bayes_SC_RT.png\", width = 3000, height = 700, res = 60)\n",
    "plot(SC_RT_runANOVA)\n",
    "dev.off()\n",
    "print(SC_RT_runANOVA)\n",
    "print(inclusionBF(SC_RT_runANOVA))"
   ]
  },
  {
   "cell_type": "code",
   "execution_count": 16,
   "metadata": {},
   "outputs": [
    {
     "data": {
      "text/html": [
       "<strong>png:</strong> 2"
      ],
      "text/latex": [
       "\\textbf{png:} 2"
      ],
      "text/markdown": [
       "**png:** 2"
      ],
      "text/plain": [
       "png \n",
       "  2 "
      ]
     },
     "metadata": {},
     "output_type": "display_data"
    },
    {
     "name": "stdout",
     "output_type": "stream",
     "text": [
      "Bayes factor analysis\n",
      "--------------\n",
      "[1] DemandCue + subject                                                                                                                            : 0.3926588 ±1.02%\n",
      "[2] Congruency + subject                                                                                                                           : 65.52338  ±3.54%\n",
      "[3] DemandCue + Congruency + subject                                                                                                               : 27.05871  ±1.71%\n",
      "[4] DemandCue + Congruency + DemandCue:Congruency + subject                                                                                        : 32.52084  ±3.28%\n",
      "[5] Feedback + subject                                                                                                                             : 0.7199782 ±3.33%\n",
      "[6] DemandCue + Feedback + subject                                                                                                                 : 0.2669533 ±1.36%\n",
      "[7] Congruency + Feedback + subject                                                                                                                : 44.58418  ±2.35%\n",
      "[8] DemandCue + Congruency + Feedback + subject                                                                                                    : 19.96174  ±3.58%\n",
      "[9] DemandCue + Congruency + DemandCue:Congruency + Feedback + subject                                                                             : 22.59244  ±3.67%\n",
      "[10] DemandCue + Feedback + DemandCue:Feedback + subject                                                                                           : 0.1598768 ±2.23%\n",
      "[11] DemandCue + Congruency + Feedback + DemandCue:Feedback + subject                                                                              : 13.32837  ±7.42%\n",
      "[12] DemandCue + Congruency + DemandCue:Congruency + Feedback + DemandCue:Feedback + subject                                                       : 14.27696  ±3.11%\n",
      "[13] Congruency + Feedback + Congruency:Feedback + subject                                                                                         : 9.983846  ±2.76%\n",
      "[14] DemandCue + Congruency + Feedback + Congruency:Feedback + subject                                                                             : 4.361261  ±5.49%\n",
      "[15] DemandCue + Congruency + DemandCue:Congruency + Feedback + Congruency:Feedback + subject                                                      : 6.035344  ±17.44%\n",
      "[16] DemandCue + Congruency + Feedback + DemandCue:Feedback + Congruency:Feedback + subject                                                        : 2.705779  ±2.5%\n",
      "[17] DemandCue + Congruency + DemandCue:Congruency + Feedback + DemandCue:Feedback + Congruency:Feedback + subject                                 : 3.127646  ±3.39%\n",
      "[18] DemandCue + Congruency + DemandCue:Congruency + Feedback + DemandCue:Feedback + Congruency:Feedback + DemandCue:Congruency:Feedback + subject : 1.092193  ±6.2%\n",
      "\n",
      "Against denominator:\n",
      "  Accuracy ~ subject \n",
      "---\n",
      "Bayes factor type: BFlinearModel, JZS\n",
      "\n",
      "                              Pr(prior) Pr(posterior) Inclusion BF\n",
      "DemandCue                         0.737         0.548        0.434\n",
      "Congruency                        0.737         0.991       37.572\n",
      "DemandCue:Congruency              0.316         0.295        0.908\n",
      "Feedback                          0.737         0.531        0.404\n",
      "DemandCue:Feedback                0.316         0.129        0.320\n",
      "Congruency:Feedback               0.316         0.101        0.244\n",
      "DemandCue:Congruency:Feedback     0.053         0.004        0.073\n",
      "\n",
      "Inclusion BFs compared among all models.\n"
     ]
    }
   ],
   "source": [
    "rawACCData <- read.csv('SC_ANOVA_ACC.csv')\n",
    "rawACCData$Accuracy <- as.numeric(as.character(rawACCData$Accuracy))\n",
    "\n",
    "rawACCData <- within(rawACCData, {\n",
    "  subject <- factor(subject)\n",
    "  Congruency <- factor(Congruency)\n",
    "  DemandCue <- factor(DemandCue)\n",
    "    Feedback <- factor(Feedback) \n",
    "})\n",
    "\n",
    "SC_ACC_runANOVA <- anovaBF(Accuracy ~ DemandCue*Congruency*Feedback + subject,\n",
    "                                  data=rawACCData,\n",
    "                                  whichRandom=\"subject\")\n",
    "\n",
    "png(file=\"Bayes_SC_ACC.png\", width = 3000, height = 700, res = 60)\n",
    "plot(SC_ACC_runANOVA)\n",
    "dev.off()\n",
    "print(SC_ACC_runANOVA)\n",
    "print(inclusionBF(SC_ACC_runANOVA))"
   ]
  },
  {
   "cell_type": "code",
   "execution_count": 12,
   "metadata": {},
   "outputs": [
    {
     "data": {
      "text/html": [
       "<strong>png:</strong> 2"
      ],
      "text/latex": [
       "\\textbf{png:} 2"
      ],
      "text/markdown": [
       "**png:** 2"
      ],
      "text/plain": [
       "png \n",
       "  2 "
      ]
     },
     "metadata": {},
     "output_type": "display_data"
    },
    {
     "name": "stdout",
     "output_type": "stream",
     "text": [
      "Bayes factor analysis\n",
      "--------------\n",
      "[1] Feedback + SubjectID                                                                                                                             : 0.4393402  ±2.8%\n",
      "[2] Congruency + SubjectID                                                                                                                           : 2848.23    ±1.67%\n",
      "[3] Feedback + Congruency + SubjectID                                                                                                                : 1316.473   ±3.13%\n",
      "[4] Feedback + Congruency + Feedback:Congruency + SubjectID                                                                                          : 265.9273   ±3.88%\n",
      "[5] DemandCue + SubjectID                                                                                                                            : 0.7216731  ±1.28%\n",
      "[6] Feedback + DemandCue + SubjectID                                                                                                                 : 0.331503   ±3.46%\n",
      "[7] Congruency + DemandCue + SubjectID                                                                                                               : 2506.94    ±1.36%\n",
      "[8] Feedback + Congruency + DemandCue + SubjectID                                                                                                    : 1137.581   ±3.83%\n",
      "[9] Feedback + Congruency + Feedback:Congruency + DemandCue + SubjectID                                                                              : 244.294    ±4.54%\n",
      "[10] Feedback + DemandCue + Feedback:DemandCue + SubjectID                                                                                           : 0.07905492 ±4.06%\n",
      "[11] Feedback + Congruency + DemandCue + Feedback:DemandCue + SubjectID                                                                              : 283.6752   ±4.7%\n",
      "[12] Feedback + Congruency + Feedback:Congruency + DemandCue + Feedback:DemandCue + SubjectID                                                        : 55.32688   ±6.06%\n",
      "[13] Congruency + DemandCue + Congruency:DemandCue + SubjectID                                                                                       : 2749.972   ±2.07%\n",
      "[14] Feedback + Congruency + DemandCue + Congruency:DemandCue + SubjectID                                                                            : 1342.941   ±4.39%\n",
      "[15] Feedback + Congruency + Feedback:Congruency + DemandCue + Congruency:DemandCue + SubjectID                                                      : 279.011    ±5.41%\n",
      "[16] Feedback + Congruency + DemandCue + Feedback:DemandCue + Congruency:DemandCue + SubjectID                                                       : 354.6037   ±5.5%\n",
      "[17] Feedback + Congruency + Feedback:Congruency + DemandCue + Feedback:DemandCue + Congruency:DemandCue + SubjectID                                 : 67.49355   ±6.35%\n",
      "[18] Feedback + Congruency + Feedback:Congruency + DemandCue + Feedback:DemandCue + Congruency:DemandCue + Feedback:Congruency:DemandCue + SubjectID : 16.87878   ±7.08%\n",
      "\n",
      "Against denominator:\n",
      "  IE ~ SubjectID \n",
      "---\n",
      "Bayes factor type: BFlinearModel, JZS\n",
      "\n",
      "                              Pr(prior) Pr(posterior) Inclusion BF\n",
      "Feedback                          0.737         0.398        0.236\n",
      "Congruency                        0.737         1.000     1870.639\n",
      "Feedback:Congruency               0.316         0.069        0.160\n",
      "DemandCue                         0.737         0.671        0.728\n",
      "Feedback:DemandCue                0.316         0.058        0.133\n",
      "Congruency:DemandCue              0.316         0.357        1.204\n",
      "Feedback:Congruency:DemandCue     0.053         0.001        0.023\n",
      "\n",
      "Inclusion BFs compared among all models.\n"
     ]
    }
   ],
   "source": [
    "IEdata <- read.csv('IE_Main.csv')\n",
    "IEdata$IE <- as.numeric(as.character(IEdata$IE))\n",
    "\n",
    "IEdata <- within(IEdata, {\n",
    "  SubjectID <- factor(SubjectID)\n",
    "  Congruency <- factor(Congruency)\n",
    "  DemandCue <- factor(DemandCue)\n",
    "  Feedback <- factor(Feedback)\n",
    "})\n",
    "\n",
    "SC_IE_runANOVA <- anovaBF(IE ~ DemandCue*Congruency*Feedback+ SubjectID,\n",
    "                          data=IEdata,\n",
    "                          whichRandom=\"SubjectID\")\n",
    "\n",
    "png(file=\"Bayes_SC_IE.png\", width = 3000, height = 700, res = 60)\n",
    "plot(SC_IE_runANOVA)\n",
    "dev.off()\n",
    "print(SC_IE_runANOVA)\n",
    "print(inclusionBF(SC_IE_runANOVA))"
   ]
  },
  {
   "cell_type": "markdown",
   "metadata": {},
   "source": [
    "What about transfer?"
   ]
  },
  {
   "cell_type": "code",
   "execution_count": 15,
   "metadata": {},
   "outputs": [
    {
     "data": {
      "text/html": [
       "<strong>png:</strong> 2"
      ],
      "text/latex": [
       "\\textbf{png:} 2"
      ],
      "text/markdown": [
       "**png:** 2"
      ],
      "text/plain": [
       "png \n",
       "  2 "
      ]
     },
     "metadata": {},
     "output_type": "display_data"
    },
    {
     "name": "stdout",
     "output_type": "stream",
     "text": [
      "Bayes factor analysis\n",
      "--------------\n",
      "[1] DemandCue + subject                                                                                                                            : 0.4671262    ±1.48%\n",
      "[2] Congruency + subject                                                                                                                           : 0.2756425    ±2.05%\n",
      "[3] DemandCue + Congruency + subject                                                                                                               : 0.1250664    ±1.69%\n",
      "[4] DemandCue + Congruency + DemandCue:Congruency + subject                                                                                        : 0.02976058   ±8.73%\n",
      "[5] Feedback + subject                                                                                                                             : 0.5271279    ±3.06%\n",
      "[6] DemandCue + Feedback + subject                                                                                                                 : 0.2268242    ±3.95%\n",
      "[7] Congruency + Feedback + subject                                                                                                                : 0.1343144    ±3.98%\n",
      "[8] DemandCue + Congruency + Feedback + subject                                                                                                    : 0.07332743   ±4.65%\n",
      "[9] DemandCue + Congruency + DemandCue:Congruency + Feedback + subject                                                                             : 0.01318288   ±5.77%\n",
      "[10] DemandCue + Feedback + DemandCue:Feedback + subject                                                                                           : 0.07112278   ±4.82%\n",
      "[11] DemandCue + Congruency + Feedback + DemandCue:Feedback + subject                                                                              : 0.02009364   ±5.75%\n",
      "[12] DemandCue + Congruency + DemandCue:Congruency + Feedback + DemandCue:Feedback + subject                                                       : 0.00403065   ±6.89%\n",
      "[13] Congruency + Feedback + Congruency:Feedback + subject                                                                                         : 0.02772738   ±5.03%\n",
      "[14] DemandCue + Congruency + Feedback + Congruency:Feedback + subject                                                                             : 0.01274541   ±5.46%\n",
      "[15] DemandCue + Congruency + DemandCue:Congruency + Feedback + Congruency:Feedback + subject                                                      : 0.002265325  ±6.87%\n",
      "[16] DemandCue + Congruency + Feedback + DemandCue:Feedback + Congruency:Feedback + subject                                                        : 0.00376637   ±6.14%\n",
      "[17] DemandCue + Congruency + DemandCue:Congruency + Feedback + DemandCue:Feedback + Congruency:Feedback + subject                                 : 0.0006955054 ±7.72%\n",
      "[18] DemandCue + Congruency + DemandCue:Congruency + Feedback + DemandCue:Feedback + Congruency:Feedback + DemandCue:Congruency:Feedback + subject : 0.0002661941 ±8.78%\n",
      "\n",
      "Against denominator:\n",
      "  RT ~ subject \n",
      "---\n",
      "Bayes factor type: BFlinearModel, JZS\n",
      "\n",
      "                              Pr(prior) Pr(posterior) Inclusion BF\n",
      "DemandCue                         0.737         0.348        0.191\n",
      "Congruency                        0.737         0.240        0.113\n",
      "DemandCue:Congruency              0.316         0.017        0.037\n",
      "Feedback                          0.737         0.371        0.210\n",
      "DemandCue:Feedback                0.316         0.033        0.074\n",
      "Congruency:Feedback               0.316         0.016        0.035\n",
      "DemandCue:Congruency:Feedback     0.053         0.000        0.002\n",
      "\n",
      "Inclusion BFs compared among all models.\n"
     ]
    }
   ],
   "source": [
    "rawRTData_T <- read.csv('SCT_ANOVA_RT.csv')\n",
    "rawRTData_T$RT <- as.numeric(as.character(rawRTData_T$RT))\n",
    "\n",
    "rawRTData_T <- within(rawRTData_T, {\n",
    "  subject <- factor(subject)\n",
    "  Congruency <- factor(Congruency)\n",
    "  DemandCue <- factor(DemandCue)\n",
    "   Feedback <- factor(Feedback)\n",
    "})\n",
    "\n",
    "SCT_RT_runANOVA <- anovaBF(RT ~ DemandCue*Congruency*Feedback + subject,\n",
    "                                  data=rawRTData_T,\n",
    "                                  whichRandom=\"subject\")\n",
    "\n",
    "png(file=\"Bayes_SCT_RT.png\", width = 3000, height = 700, res = 60)\n",
    "plot(SCT_RT_runANOVA)\n",
    "dev.off()\n",
    "print(SCT_RT_runANOVA)\n",
    "print(inclusionBF(SCT_RT_runANOVA))"
   ]
  },
  {
   "cell_type": "code",
   "execution_count": 17,
   "metadata": {},
   "outputs": [
    {
     "data": {
      "text/html": [
       "<strong>png:</strong> 2"
      ],
      "text/latex": [
       "\\textbf{png:} 2"
      ],
      "text/markdown": [
       "**png:** 2"
      ],
      "text/plain": [
       "png \n",
       "  2 "
      ]
     },
     "metadata": {},
     "output_type": "display_data"
    },
    {
     "name": "stdout",
     "output_type": "stream",
     "text": [
      "Bayes factor analysis\n",
      "--------------\n",
      "[1] DemandCue + subject                                                                                                                            : 0.245544    ±0.75%\n",
      "[2] Congruency + subject                                                                                                                           : 0.3717369   ±1.8%\n",
      "[3] DemandCue + Congruency + subject                                                                                                               : 0.09320582  ±1.83%\n",
      "[4] DemandCue + Congruency + DemandCue:Congruency + subject                                                                                        : 0.02323641  ±5.63%\n",
      "[5] Feedback + subject                                                                                                                             : 1.155564    ±8.27%\n",
      "[6] DemandCue + Feedback + subject                                                                                                                 : 0.2704224   ±4.41%\n",
      "[7] Congruency + Feedback + subject                                                                                                                : 0.3977027   ±2.57%\n",
      "[8] DemandCue + Congruency + Feedback + subject                                                                                                    : 0.106073    ±5.76%\n",
      "[9] DemandCue + Congruency + DemandCue:Congruency + Feedback + subject                                                                             : 0.02469672  ±4.49%\n",
      "[10] DemandCue + Feedback + DemandCue:Feedback + subject                                                                                           : 0.05567022  ±3.64%\n",
      "[11] DemandCue + Congruency + Feedback + DemandCue:Feedback + subject                                                                              : 0.0200193   ±2.48%\n",
      "[12] DemandCue + Congruency + DemandCue:Congruency + Feedback + DemandCue:Feedback + subject                                                       : 0.005104235 ±7.35%\n",
      "[13] Congruency + Feedback + Congruency:Feedback + subject                                                                                         : 0.2815638   ±4.79%\n",
      "[14] DemandCue + Congruency + Feedback + Congruency:Feedback + subject                                                                             : 0.07236651  ±3.94%\n",
      "[15] DemandCue + Congruency + DemandCue:Congruency + Feedback + Congruency:Feedback + subject                                                      : 0.01717396  ±4.08%\n",
      "[16] DemandCue + Congruency + Feedback + DemandCue:Feedback + Congruency:Feedback + subject                                                        : 0.01429265  ±3.99%\n",
      "[17] DemandCue + Congruency + DemandCue:Congruency + Feedback + DemandCue:Feedback + Congruency:Feedback + subject                                 : 0.003674404 ±5.83%\n",
      "[18] DemandCue + Congruency + DemandCue:Congruency + Feedback + DemandCue:Feedback + Congruency:Feedback + DemandCue:Congruency:Feedback + subject : 0.001299309 ±16.03%\n",
      "\n",
      "Against denominator:\n",
      "  Accuracy ~ subject \n",
      "---\n",
      "Bayes factor type: BFlinearModel, JZS\n",
      "\n",
      "                              Pr(prior) Pr(posterior) Inclusion BF\n",
      "DemandCue                         0.737         0.229        0.106\n",
      "Congruency                        0.737         0.344        0.188\n",
      "DemandCue:Congruency              0.316         0.018        0.040\n",
      "Feedback                          0.737         0.583        0.500\n",
      "DemandCue:Feedback                0.316         0.024        0.053\n",
      "Congruency:Feedback               0.316         0.094        0.224\n",
      "DemandCue:Congruency:Feedback     0.053         0.000        0.006\n",
      "\n",
      "Inclusion BFs compared among all models.\n"
     ]
    }
   ],
   "source": [
    "rawACCData_T <- read.csv('SCT_ANOVA_ACC.csv')\n",
    "rawACCData_T$Accuracy <- as.numeric(as.character(rawACCData_T$Accuracy))\n",
    "\n",
    "rawACCData_T <- within(rawACCData_T, {\n",
    "  subject <- factor(subject)\n",
    "  Congruency <- factor(Congruency)\n",
    "  DemandCue <- factor(DemandCue)\n",
    "    Feedback <- factor(Feedback)\n",
    "})\n",
    "\n",
    "SCT_ACC_runANOVA <- anovaBF(Accuracy ~ DemandCue*Congruency*Feedback + subject,\n",
    "                                  data=rawACCData_T,\n",
    "                                  whichRandom=\"subject\")\n",
    "\n",
    "png(file=\"Bayes_SCT_ACC.png\", width = 3000, height = 700, res = 60)\n",
    "plot(SCT_ACC_runANOVA)\n",
    "dev.off()\n",
    "print(SCT_ACC_runANOVA)\n",
    "print(inclusionBF(SCT_ACC_runANOVA))"
   ]
  },
  {
   "cell_type": "code",
   "execution_count": 13,
   "metadata": {},
   "outputs": [
    {
     "data": {
      "text/html": [
       "<strong>png:</strong> 2"
      ],
      "text/latex": [
       "\\textbf{png:} 2"
      ],
      "text/markdown": [
       "**png:** 2"
      ],
      "text/plain": [
       "png \n",
       "  2 "
      ]
     },
     "metadata": {},
     "output_type": "display_data"
    },
    {
     "name": "stdout",
     "output_type": "stream",
     "text": [
      "Bayes factor analysis\n",
      "--------------\n",
      "[1] Feedback + SubjectID                                                                                                                             : 0.6432367    ±1.09%\n",
      "[2] Congruency + SubjectID                                                                                                                           : 0.6908077    ±0.79%\n",
      "[3] Feedback + Congruency + SubjectID                                                                                                                : 0.4462604    ±1.79%\n",
      "[4] Feedback + Congruency + Feedback:Congruency + SubjectID                                                                                          : 0.287866     ±2.14%\n",
      "[5] DemandCue + SubjectID                                                                                                                            : 0.1426487    ±2.87%\n",
      "[6] Feedback + DemandCue + SubjectID                                                                                                                 : 0.08789225   ±1.6%\n",
      "[7] Congruency + DemandCue + SubjectID                                                                                                               : 0.09615603   ±2.26%\n",
      "[8] Feedback + Congruency + DemandCue + SubjectID                                                                                                    : 0.06121869   ±1.69%\n",
      "[9] Feedback + Congruency + Feedback:Congruency + DemandCue + SubjectID                                                                              : 0.04035073   ±2.91%\n",
      "[10] Feedback + DemandCue + Feedback:DemandCue + SubjectID                                                                                           : 0.0176803    ±2.56%\n",
      "[11] Feedback + Congruency + DemandCue + Feedback:DemandCue + SubjectID                                                                              : 0.01351946   ±5.41%\n",
      "[12] Feedback + Congruency + Feedback:Congruency + DemandCue + Feedback:DemandCue + SubjectID                                                        : 0.008112721  ±5.48%\n",
      "[13] Congruency + DemandCue + Congruency:DemandCue + SubjectID                                                                                       : 0.02118808   ±3.25%\n",
      "[14] Feedback + Congruency + DemandCue + Congruency:DemandCue + SubjectID                                                                            : 0.01305016   ±3.27%\n",
      "[15] Feedback + Congruency + Feedback:Congruency + DemandCue + Congruency:DemandCue + SubjectID                                                      : 0.008487579  ±3.08%\n",
      "[16] Feedback + Congruency + DemandCue + Feedback:DemandCue + Congruency:DemandCue + SubjectID                                                       : 0.002962656  ±6.7%\n",
      "[17] Feedback + Congruency + Feedback:Congruency + DemandCue + Feedback:DemandCue + Congruency:DemandCue + SubjectID                                 : 0.001987101  ±9.55%\n",
      "[18] Feedback + Congruency + Feedback:Congruency + DemandCue + Feedback:DemandCue + Congruency:DemandCue + Feedback:Congruency:DemandCue + SubjectID : 0.0004866336 ±8.92%\n",
      "\n",
      "Against denominator:\n",
      "  IE ~ SubjectID \n",
      "---\n",
      "Bayes factor type: BFlinearModel, JZS\n",
      "\n",
      "                              Pr(prior) Pr(posterior) Inclusion BF\n",
      "Feedback                          0.737         0.456        0.299\n",
      "Congruency                        0.737         0.472        0.320\n",
      "Feedback:Congruency               0.316         0.097        0.232\n",
      "DemandCue                         0.737         0.144        0.060\n",
      "Feedback:DemandCue                0.316         0.012        0.027\n",
      "Congruency:DemandCue              0.316         0.013        0.030\n",
      "Feedback:Congruency:DemandCue     0.053         0.000        0.002\n",
      "\n",
      "Inclusion BFs compared among all models.\n"
     ]
    }
   ],
   "source": [
    "IEdata_T <- read.csv('IE_transfer.csv')\n",
    "IEdata_T$IE <- as.numeric(as.character(IEdata_T$IE))\n",
    "\n",
    "IEdata_T <- within(IEdata_T, {\n",
    "  SubjectID <- factor(SubjectID)\n",
    "  Congruency <- factor(Congruency)\n",
    "  DemandCue <- factor(DemandCue)\n",
    "  Feedback <- factor(Feedback)\n",
    "})\n",
    "\n",
    "SC_IET_runANOVA <- anovaBF(IE ~ DemandCue*Congruency*Feedback + SubjectID,\n",
    "                           data=IEdata_T,\n",
    "                           whichRandom=\"SubjectID\")\n",
    "\n",
    "png(file=\"Bayes_SC_IE_T.png\", width = 3000, height = 700, res = 60)\n",
    "plot(SC_IET_runANOVA)\n",
    "dev.off()\n",
    "print(SC_IET_runANOVA)\n",
    "print(inclusionBF(SC_IET_runANOVA))"
   ]
  }
 ],
 "metadata": {
  "kernelspec": {
   "display_name": "R",
   "language": "R",
   "name": "ir"
  },
  "language_info": {
   "codemirror_mode": "r",
   "file_extension": ".r",
   "mimetype": "text/x-r-source",
   "name": "R",
   "pygments_lexer": "r",
   "version": "3.5.1"
  }
 },
 "nbformat": 4,
 "nbformat_minor": 2
}
